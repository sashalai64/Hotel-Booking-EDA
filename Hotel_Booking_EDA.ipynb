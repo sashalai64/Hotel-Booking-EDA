{
 "cells": [
  {
   "cell_type": "markdown",
   "metadata": {
    "id": "aK0GZwh3X285"
   },
   "source": [
    "# Hotel Booking Demand\n",
    "\n",
    "This dataset is from Kaggle - Hotel booking demand.\n",
    "\n",
    "Have you ever wondered which time of the year has the highest demand of hotel booking? Or are you a hotel/resort owener who wants to know the consumption habit of the guests? This dataset provides us with the data including the time of arriving/leaving, duration of the staying, etc.\n",
    "\n",
    "We will explore this dataset with Python Numpy/Pandas and visualize the results using Matplotlib/Seaborn/Plotly. "
   ]
  },
  {
   "cell_type": "markdown",
   "metadata": {
    "id": "qwo9Bl03X287"
   },
   "source": [
    "## Downloading the Dataset\n",
    "\n",
    "Download the dataset from Kaggle using opendatasets library"
   ]
  },
  {
   "cell_type": "code",
   "execution_count": 415,
   "metadata": {
    "id": "mx4roo3QX288"
   },
   "outputs": [],
   "source": [
    "!pip install jovian opendatasets --upgrade --quiet"
   ]
  },
  {
   "cell_type": "markdown",
   "metadata": {
    "id": "5bPdvbzxX289"
   },
   "source": [
    "Let's begin by downloading the data, and listing the files within the dataset."
   ]
  },
  {
   "cell_type": "code",
   "execution_count": 416,
   "metadata": {
    "id": "GVvr7AnyX28-"
   },
   "outputs": [],
   "source": [
    "dataset_url = 'https://www.kaggle.com/datasets/jessemostipak/hotel-booking-demand' "
   ]
  },
  {
   "cell_type": "code",
   "execution_count": 417,
   "metadata": {
    "id": "wP_75bbWX28_",
    "outputId": "03a69f22-6cd9-4136-827d-a7a36b3abd30"
   },
   "outputs": [
    {
     "name": "stdout",
     "output_type": "stream",
     "text": [
      "Skipping, found downloaded files in \"./hotel-booking-demand\" (use force=True to force download)\n"
     ]
    }
   ],
   "source": [
    "import opendatasets as od\n",
    "od.download(dataset_url)"
   ]
  },
  {
   "cell_type": "markdown",
   "metadata": {
    "id": "DjFSu0taX29A"
   },
   "source": [
    "The dataset has been downloaded and extracted."
   ]
  },
  {
   "cell_type": "code",
   "execution_count": 418,
   "metadata": {
    "id": "oycGtAcwX29A"
   },
   "outputs": [],
   "source": [
    "data_dir = './hotel-booking-demand'"
   ]
  },
  {
   "cell_type": "code",
   "execution_count": 419,
   "metadata": {
    "id": "lOhnjKZ-X29B",
    "outputId": "96ab4b12-4684-4b5a-dc5b-b0816bf6e680"
   },
   "outputs": [
    {
     "data": {
      "text/plain": [
       "['hotel_bookings.csv']"
      ]
     },
     "execution_count": 419,
     "metadata": {},
     "output_type": "execute_result"
    }
   ],
   "source": [
    "import os\n",
    "os.listdir(data_dir)"
   ]
  },
  {
   "cell_type": "markdown",
   "metadata": {
    "id": "0j7zbsObX29B"
   },
   "source": [
    "Let us save and upload our work to Jovian before continuing."
   ]
  },
  {
   "cell_type": "code",
   "execution_count": 420,
   "metadata": {
    "id": "l4si1NqrX29C"
   },
   "outputs": [],
   "source": [
    "project_name = \"zerotopandas-course-project\" # change this (use lowercase letters and hyphens only)"
   ]
  },
  {
   "cell_type": "code",
   "execution_count": 421,
   "metadata": {
    "id": "79Ieyjg9X29C"
   },
   "outputs": [],
   "source": [
    "!pip install jovian --upgrade -q"
   ]
  },
  {
   "cell_type": "code",
   "execution_count": 422,
   "metadata": {
    "id": "uKvBMvN_X29D"
   },
   "outputs": [],
   "source": [
    "import jovian"
   ]
  },
  {
   "cell_type": "code",
   "execution_count": 423,
   "metadata": {
    "id": "SdLrvMf8X29E",
    "outputId": "2296ba26-8be7-42de-8704-1533d8356387"
   },
   "outputs": [
    {
     "data": {
      "application/javascript": [
       "window.require && require([\"base/js/namespace\"],function(Jupyter){Jupyter.notebook.save_checkpoint()})"
      ],
      "text/plain": [
       "<IPython.core.display.Javascript object>"
      ]
     },
     "metadata": {},
     "output_type": "display_data"
    },
    {
     "name": "stdout",
     "output_type": "stream",
     "text": [
      "[jovian] Updating notebook \"sashalai007/zerotopandas-course-project\" on https://jovian.com/\u001b[0m\n",
      "[jovian] Committed successfully! https://jovian.com/sashalai007/zerotopandas-course-project\u001b[0m\n"
     ]
    },
    {
     "data": {
      "text/plain": [
       "'https://jovian.com/sashalai007/zerotopandas-course-project'"
      ]
     },
     "execution_count": 423,
     "metadata": {},
     "output_type": "execute_result"
    }
   ],
   "source": [
    "jovian.commit(project=project_name)"
   ]
  },
  {
   "cell_type": "markdown",
   "metadata": {
    "id": "xNn9197AX29F"
   },
   "source": [
    "## Data Preparation and Cleaning\n",
    "\n",
    "We will understand some brief information about this dataset by getting concise summary, finding missing data, etc., and finally cleaning the dataset.\n",
    "\n"
   ]
  },
  {
   "cell_type": "code",
   "execution_count": 424,
   "metadata": {
    "id": "9SkZmvasX29F"
   },
   "outputs": [],
   "source": [
    "import numpy as np\n",
    "import pandas as pd\n",
    "from sklearn.preprocessing import LabelEncoder"
   ]
  },
  {
   "cell_type": "code",
   "execution_count": 425,
   "metadata": {
    "id": "4UymsLmyX29G"
   },
   "outputs": [
    {
     "data": {
      "text/html": [
       "<div>\n",
       "<style scoped>\n",
       "    .dataframe tbody tr th:only-of-type {\n",
       "        vertical-align: middle;\n",
       "    }\n",
       "\n",
       "    .dataframe tbody tr th {\n",
       "        vertical-align: top;\n",
       "    }\n",
       "\n",
       "    .dataframe thead th {\n",
       "        text-align: right;\n",
       "    }\n",
       "</style>\n",
       "<table border=\"1\" class=\"dataframe\">\n",
       "  <thead>\n",
       "    <tr style=\"text-align: right;\">\n",
       "      <th></th>\n",
       "      <th>hotel</th>\n",
       "      <th>is_canceled</th>\n",
       "      <th>lead_time</th>\n",
       "      <th>arrival_date_year</th>\n",
       "      <th>arrival_date_month</th>\n",
       "      <th>arrival_date_week_number</th>\n",
       "      <th>arrival_date_day_of_month</th>\n",
       "      <th>stays_in_weekend_nights</th>\n",
       "      <th>stays_in_week_nights</th>\n",
       "      <th>adults</th>\n",
       "      <th>children</th>\n",
       "      <th>babies</th>\n",
       "      <th>meal</th>\n",
       "      <th>country</th>\n",
       "      <th>market_segment</th>\n",
       "      <th>distribution_channel</th>\n",
       "      <th>is_repeated_guest</th>\n",
       "      <th>previous_cancellations</th>\n",
       "      <th>previous_bookings_not_canceled</th>\n",
       "      <th>reserved_room_type</th>\n",
       "      <th>assigned_room_type</th>\n",
       "      <th>booking_changes</th>\n",
       "      <th>deposit_type</th>\n",
       "      <th>agent</th>\n",
       "      <th>company</th>\n",
       "      <th>days_in_waiting_list</th>\n",
       "      <th>customer_type</th>\n",
       "      <th>adr</th>\n",
       "      <th>required_car_parking_spaces</th>\n",
       "      <th>total_of_special_requests</th>\n",
       "      <th>reservation_status</th>\n",
       "      <th>reservation_status_date</th>\n",
       "    </tr>\n",
       "  </thead>\n",
       "  <tbody>\n",
       "    <tr>\n",
       "      <th>0</th>\n",
       "      <td>Resort Hotel</td>\n",
       "      <td>0</td>\n",
       "      <td>342</td>\n",
       "      <td>2015</td>\n",
       "      <td>July</td>\n",
       "      <td>27</td>\n",
       "      <td>1</td>\n",
       "      <td>0</td>\n",
       "      <td>0</td>\n",
       "      <td>2</td>\n",
       "      <td>0.0</td>\n",
       "      <td>0</td>\n",
       "      <td>BB</td>\n",
       "      <td>PRT</td>\n",
       "      <td>Direct</td>\n",
       "      <td>Direct</td>\n",
       "      <td>0</td>\n",
       "      <td>0</td>\n",
       "      <td>0</td>\n",
       "      <td>C</td>\n",
       "      <td>C</td>\n",
       "      <td>3</td>\n",
       "      <td>No Deposit</td>\n",
       "      <td>NaN</td>\n",
       "      <td>NaN</td>\n",
       "      <td>0</td>\n",
       "      <td>Transient</td>\n",
       "      <td>0.00</td>\n",
       "      <td>0</td>\n",
       "      <td>0</td>\n",
       "      <td>Check-Out</td>\n",
       "      <td>2015-07-01</td>\n",
       "    </tr>\n",
       "    <tr>\n",
       "      <th>1</th>\n",
       "      <td>Resort Hotel</td>\n",
       "      <td>0</td>\n",
       "      <td>737</td>\n",
       "      <td>2015</td>\n",
       "      <td>July</td>\n",
       "      <td>27</td>\n",
       "      <td>1</td>\n",
       "      <td>0</td>\n",
       "      <td>0</td>\n",
       "      <td>2</td>\n",
       "      <td>0.0</td>\n",
       "      <td>0</td>\n",
       "      <td>BB</td>\n",
       "      <td>PRT</td>\n",
       "      <td>Direct</td>\n",
       "      <td>Direct</td>\n",
       "      <td>0</td>\n",
       "      <td>0</td>\n",
       "      <td>0</td>\n",
       "      <td>C</td>\n",
       "      <td>C</td>\n",
       "      <td>4</td>\n",
       "      <td>No Deposit</td>\n",
       "      <td>NaN</td>\n",
       "      <td>NaN</td>\n",
       "      <td>0</td>\n",
       "      <td>Transient</td>\n",
       "      <td>0.00</td>\n",
       "      <td>0</td>\n",
       "      <td>0</td>\n",
       "      <td>Check-Out</td>\n",
       "      <td>2015-07-01</td>\n",
       "    </tr>\n",
       "    <tr>\n",
       "      <th>2</th>\n",
       "      <td>Resort Hotel</td>\n",
       "      <td>0</td>\n",
       "      <td>7</td>\n",
       "      <td>2015</td>\n",
       "      <td>July</td>\n",
       "      <td>27</td>\n",
       "      <td>1</td>\n",
       "      <td>0</td>\n",
       "      <td>1</td>\n",
       "      <td>1</td>\n",
       "      <td>0.0</td>\n",
       "      <td>0</td>\n",
       "      <td>BB</td>\n",
       "      <td>GBR</td>\n",
       "      <td>Direct</td>\n",
       "      <td>Direct</td>\n",
       "      <td>0</td>\n",
       "      <td>0</td>\n",
       "      <td>0</td>\n",
       "      <td>A</td>\n",
       "      <td>C</td>\n",
       "      <td>0</td>\n",
       "      <td>No Deposit</td>\n",
       "      <td>NaN</td>\n",
       "      <td>NaN</td>\n",
       "      <td>0</td>\n",
       "      <td>Transient</td>\n",
       "      <td>75.00</td>\n",
       "      <td>0</td>\n",
       "      <td>0</td>\n",
       "      <td>Check-Out</td>\n",
       "      <td>2015-07-02</td>\n",
       "    </tr>\n",
       "    <tr>\n",
       "      <th>3</th>\n",
       "      <td>Resort Hotel</td>\n",
       "      <td>0</td>\n",
       "      <td>13</td>\n",
       "      <td>2015</td>\n",
       "      <td>July</td>\n",
       "      <td>27</td>\n",
       "      <td>1</td>\n",
       "      <td>0</td>\n",
       "      <td>1</td>\n",
       "      <td>1</td>\n",
       "      <td>0.0</td>\n",
       "      <td>0</td>\n",
       "      <td>BB</td>\n",
       "      <td>GBR</td>\n",
       "      <td>Corporate</td>\n",
       "      <td>Corporate</td>\n",
       "      <td>0</td>\n",
       "      <td>0</td>\n",
       "      <td>0</td>\n",
       "      <td>A</td>\n",
       "      <td>A</td>\n",
       "      <td>0</td>\n",
       "      <td>No Deposit</td>\n",
       "      <td>304.0</td>\n",
       "      <td>NaN</td>\n",
       "      <td>0</td>\n",
       "      <td>Transient</td>\n",
       "      <td>75.00</td>\n",
       "      <td>0</td>\n",
       "      <td>0</td>\n",
       "      <td>Check-Out</td>\n",
       "      <td>2015-07-02</td>\n",
       "    </tr>\n",
       "    <tr>\n",
       "      <th>4</th>\n",
       "      <td>Resort Hotel</td>\n",
       "      <td>0</td>\n",
       "      <td>14</td>\n",
       "      <td>2015</td>\n",
       "      <td>July</td>\n",
       "      <td>27</td>\n",
       "      <td>1</td>\n",
       "      <td>0</td>\n",
       "      <td>2</td>\n",
       "      <td>2</td>\n",
       "      <td>0.0</td>\n",
       "      <td>0</td>\n",
       "      <td>BB</td>\n",
       "      <td>GBR</td>\n",
       "      <td>Online TA</td>\n",
       "      <td>TA/TO</td>\n",
       "      <td>0</td>\n",
       "      <td>0</td>\n",
       "      <td>0</td>\n",
       "      <td>A</td>\n",
       "      <td>A</td>\n",
       "      <td>0</td>\n",
       "      <td>No Deposit</td>\n",
       "      <td>240.0</td>\n",
       "      <td>NaN</td>\n",
       "      <td>0</td>\n",
       "      <td>Transient</td>\n",
       "      <td>98.00</td>\n",
       "      <td>0</td>\n",
       "      <td>1</td>\n",
       "      <td>Check-Out</td>\n",
       "      <td>2015-07-03</td>\n",
       "    </tr>\n",
       "    <tr>\n",
       "      <th>...</th>\n",
       "      <td>...</td>\n",
       "      <td>...</td>\n",
       "      <td>...</td>\n",
       "      <td>...</td>\n",
       "      <td>...</td>\n",
       "      <td>...</td>\n",
       "      <td>...</td>\n",
       "      <td>...</td>\n",
       "      <td>...</td>\n",
       "      <td>...</td>\n",
       "      <td>...</td>\n",
       "      <td>...</td>\n",
       "      <td>...</td>\n",
       "      <td>...</td>\n",
       "      <td>...</td>\n",
       "      <td>...</td>\n",
       "      <td>...</td>\n",
       "      <td>...</td>\n",
       "      <td>...</td>\n",
       "      <td>...</td>\n",
       "      <td>...</td>\n",
       "      <td>...</td>\n",
       "      <td>...</td>\n",
       "      <td>...</td>\n",
       "      <td>...</td>\n",
       "      <td>...</td>\n",
       "      <td>...</td>\n",
       "      <td>...</td>\n",
       "      <td>...</td>\n",
       "      <td>...</td>\n",
       "      <td>...</td>\n",
       "      <td>...</td>\n",
       "    </tr>\n",
       "    <tr>\n",
       "      <th>119385</th>\n",
       "      <td>City Hotel</td>\n",
       "      <td>0</td>\n",
       "      <td>23</td>\n",
       "      <td>2017</td>\n",
       "      <td>August</td>\n",
       "      <td>35</td>\n",
       "      <td>30</td>\n",
       "      <td>2</td>\n",
       "      <td>5</td>\n",
       "      <td>2</td>\n",
       "      <td>0.0</td>\n",
       "      <td>0</td>\n",
       "      <td>BB</td>\n",
       "      <td>BEL</td>\n",
       "      <td>Offline TA/TO</td>\n",
       "      <td>TA/TO</td>\n",
       "      <td>0</td>\n",
       "      <td>0</td>\n",
       "      <td>0</td>\n",
       "      <td>A</td>\n",
       "      <td>A</td>\n",
       "      <td>0</td>\n",
       "      <td>No Deposit</td>\n",
       "      <td>394.0</td>\n",
       "      <td>NaN</td>\n",
       "      <td>0</td>\n",
       "      <td>Transient</td>\n",
       "      <td>96.14</td>\n",
       "      <td>0</td>\n",
       "      <td>0</td>\n",
       "      <td>Check-Out</td>\n",
       "      <td>2017-09-06</td>\n",
       "    </tr>\n",
       "    <tr>\n",
       "      <th>119386</th>\n",
       "      <td>City Hotel</td>\n",
       "      <td>0</td>\n",
       "      <td>102</td>\n",
       "      <td>2017</td>\n",
       "      <td>August</td>\n",
       "      <td>35</td>\n",
       "      <td>31</td>\n",
       "      <td>2</td>\n",
       "      <td>5</td>\n",
       "      <td>3</td>\n",
       "      <td>0.0</td>\n",
       "      <td>0</td>\n",
       "      <td>BB</td>\n",
       "      <td>FRA</td>\n",
       "      <td>Online TA</td>\n",
       "      <td>TA/TO</td>\n",
       "      <td>0</td>\n",
       "      <td>0</td>\n",
       "      <td>0</td>\n",
       "      <td>E</td>\n",
       "      <td>E</td>\n",
       "      <td>0</td>\n",
       "      <td>No Deposit</td>\n",
       "      <td>9.0</td>\n",
       "      <td>NaN</td>\n",
       "      <td>0</td>\n",
       "      <td>Transient</td>\n",
       "      <td>225.43</td>\n",
       "      <td>0</td>\n",
       "      <td>2</td>\n",
       "      <td>Check-Out</td>\n",
       "      <td>2017-09-07</td>\n",
       "    </tr>\n",
       "    <tr>\n",
       "      <th>119387</th>\n",
       "      <td>City Hotel</td>\n",
       "      <td>0</td>\n",
       "      <td>34</td>\n",
       "      <td>2017</td>\n",
       "      <td>August</td>\n",
       "      <td>35</td>\n",
       "      <td>31</td>\n",
       "      <td>2</td>\n",
       "      <td>5</td>\n",
       "      <td>2</td>\n",
       "      <td>0.0</td>\n",
       "      <td>0</td>\n",
       "      <td>BB</td>\n",
       "      <td>DEU</td>\n",
       "      <td>Online TA</td>\n",
       "      <td>TA/TO</td>\n",
       "      <td>0</td>\n",
       "      <td>0</td>\n",
       "      <td>0</td>\n",
       "      <td>D</td>\n",
       "      <td>D</td>\n",
       "      <td>0</td>\n",
       "      <td>No Deposit</td>\n",
       "      <td>9.0</td>\n",
       "      <td>NaN</td>\n",
       "      <td>0</td>\n",
       "      <td>Transient</td>\n",
       "      <td>157.71</td>\n",
       "      <td>0</td>\n",
       "      <td>4</td>\n",
       "      <td>Check-Out</td>\n",
       "      <td>2017-09-07</td>\n",
       "    </tr>\n",
       "    <tr>\n",
       "      <th>119388</th>\n",
       "      <td>City Hotel</td>\n",
       "      <td>0</td>\n",
       "      <td>109</td>\n",
       "      <td>2017</td>\n",
       "      <td>August</td>\n",
       "      <td>35</td>\n",
       "      <td>31</td>\n",
       "      <td>2</td>\n",
       "      <td>5</td>\n",
       "      <td>2</td>\n",
       "      <td>0.0</td>\n",
       "      <td>0</td>\n",
       "      <td>BB</td>\n",
       "      <td>GBR</td>\n",
       "      <td>Online TA</td>\n",
       "      <td>TA/TO</td>\n",
       "      <td>0</td>\n",
       "      <td>0</td>\n",
       "      <td>0</td>\n",
       "      <td>A</td>\n",
       "      <td>A</td>\n",
       "      <td>0</td>\n",
       "      <td>No Deposit</td>\n",
       "      <td>89.0</td>\n",
       "      <td>NaN</td>\n",
       "      <td>0</td>\n",
       "      <td>Transient</td>\n",
       "      <td>104.40</td>\n",
       "      <td>0</td>\n",
       "      <td>0</td>\n",
       "      <td>Check-Out</td>\n",
       "      <td>2017-09-07</td>\n",
       "    </tr>\n",
       "    <tr>\n",
       "      <th>119389</th>\n",
       "      <td>City Hotel</td>\n",
       "      <td>0</td>\n",
       "      <td>205</td>\n",
       "      <td>2017</td>\n",
       "      <td>August</td>\n",
       "      <td>35</td>\n",
       "      <td>29</td>\n",
       "      <td>2</td>\n",
       "      <td>7</td>\n",
       "      <td>2</td>\n",
       "      <td>0.0</td>\n",
       "      <td>0</td>\n",
       "      <td>HB</td>\n",
       "      <td>DEU</td>\n",
       "      <td>Online TA</td>\n",
       "      <td>TA/TO</td>\n",
       "      <td>0</td>\n",
       "      <td>0</td>\n",
       "      <td>0</td>\n",
       "      <td>A</td>\n",
       "      <td>A</td>\n",
       "      <td>0</td>\n",
       "      <td>No Deposit</td>\n",
       "      <td>9.0</td>\n",
       "      <td>NaN</td>\n",
       "      <td>0</td>\n",
       "      <td>Transient</td>\n",
       "      <td>151.20</td>\n",
       "      <td>0</td>\n",
       "      <td>2</td>\n",
       "      <td>Check-Out</td>\n",
       "      <td>2017-09-07</td>\n",
       "    </tr>\n",
       "  </tbody>\n",
       "</table>\n",
       "<p>119390 rows × 32 columns</p>\n",
       "</div>"
      ],
      "text/plain": [
       "               hotel  is_canceled  lead_time  arrival_date_year  \\\n",
       "0       Resort Hotel            0        342               2015   \n",
       "1       Resort Hotel            0        737               2015   \n",
       "2       Resort Hotel            0          7               2015   \n",
       "3       Resort Hotel            0         13               2015   \n",
       "4       Resort Hotel            0         14               2015   \n",
       "...              ...          ...        ...                ...   \n",
       "119385    City Hotel            0         23               2017   \n",
       "119386    City Hotel            0        102               2017   \n",
       "119387    City Hotel            0         34               2017   \n",
       "119388    City Hotel            0        109               2017   \n",
       "119389    City Hotel            0        205               2017   \n",
       "\n",
       "       arrival_date_month  arrival_date_week_number  \\\n",
       "0                    July                        27   \n",
       "1                    July                        27   \n",
       "2                    July                        27   \n",
       "3                    July                        27   \n",
       "4                    July                        27   \n",
       "...                   ...                       ...   \n",
       "119385             August                        35   \n",
       "119386             August                        35   \n",
       "119387             August                        35   \n",
       "119388             August                        35   \n",
       "119389             August                        35   \n",
       "\n",
       "        arrival_date_day_of_month  stays_in_weekend_nights  \\\n",
       "0                               1                        0   \n",
       "1                               1                        0   \n",
       "2                               1                        0   \n",
       "3                               1                        0   \n",
       "4                               1                        0   \n",
       "...                           ...                      ...   \n",
       "119385                         30                        2   \n",
       "119386                         31                        2   \n",
       "119387                         31                        2   \n",
       "119388                         31                        2   \n",
       "119389                         29                        2   \n",
       "\n",
       "        stays_in_week_nights  adults  children  babies meal country  \\\n",
       "0                          0       2       0.0       0   BB     PRT   \n",
       "1                          0       2       0.0       0   BB     PRT   \n",
       "2                          1       1       0.0       0   BB     GBR   \n",
       "3                          1       1       0.0       0   BB     GBR   \n",
       "4                          2       2       0.0       0   BB     GBR   \n",
       "...                      ...     ...       ...     ...  ...     ...   \n",
       "119385                     5       2       0.0       0   BB     BEL   \n",
       "119386                     5       3       0.0       0   BB     FRA   \n",
       "119387                     5       2       0.0       0   BB     DEU   \n",
       "119388                     5       2       0.0       0   BB     GBR   \n",
       "119389                     7       2       0.0       0   HB     DEU   \n",
       "\n",
       "       market_segment distribution_channel  is_repeated_guest  \\\n",
       "0              Direct               Direct                  0   \n",
       "1              Direct               Direct                  0   \n",
       "2              Direct               Direct                  0   \n",
       "3           Corporate            Corporate                  0   \n",
       "4           Online TA                TA/TO                  0   \n",
       "...               ...                  ...                ...   \n",
       "119385  Offline TA/TO                TA/TO                  0   \n",
       "119386      Online TA                TA/TO                  0   \n",
       "119387      Online TA                TA/TO                  0   \n",
       "119388      Online TA                TA/TO                  0   \n",
       "119389      Online TA                TA/TO                  0   \n",
       "\n",
       "        previous_cancellations  previous_bookings_not_canceled  \\\n",
       "0                            0                               0   \n",
       "1                            0                               0   \n",
       "2                            0                               0   \n",
       "3                            0                               0   \n",
       "4                            0                               0   \n",
       "...                        ...                             ...   \n",
       "119385                       0                               0   \n",
       "119386                       0                               0   \n",
       "119387                       0                               0   \n",
       "119388                       0                               0   \n",
       "119389                       0                               0   \n",
       "\n",
       "       reserved_room_type assigned_room_type  booking_changes deposit_type  \\\n",
       "0                       C                  C                3   No Deposit   \n",
       "1                       C                  C                4   No Deposit   \n",
       "2                       A                  C                0   No Deposit   \n",
       "3                       A                  A                0   No Deposit   \n",
       "4                       A                  A                0   No Deposit   \n",
       "...                   ...                ...              ...          ...   \n",
       "119385                  A                  A                0   No Deposit   \n",
       "119386                  E                  E                0   No Deposit   \n",
       "119387                  D                  D                0   No Deposit   \n",
       "119388                  A                  A                0   No Deposit   \n",
       "119389                  A                  A                0   No Deposit   \n",
       "\n",
       "        agent  company  days_in_waiting_list customer_type     adr  \\\n",
       "0         NaN      NaN                     0     Transient    0.00   \n",
       "1         NaN      NaN                     0     Transient    0.00   \n",
       "2         NaN      NaN                     0     Transient   75.00   \n",
       "3       304.0      NaN                     0     Transient   75.00   \n",
       "4       240.0      NaN                     0     Transient   98.00   \n",
       "...       ...      ...                   ...           ...     ...   \n",
       "119385  394.0      NaN                     0     Transient   96.14   \n",
       "119386    9.0      NaN                     0     Transient  225.43   \n",
       "119387    9.0      NaN                     0     Transient  157.71   \n",
       "119388   89.0      NaN                     0     Transient  104.40   \n",
       "119389    9.0      NaN                     0     Transient  151.20   \n",
       "\n",
       "        required_car_parking_spaces  total_of_special_requests  \\\n",
       "0                                 0                          0   \n",
       "1                                 0                          0   \n",
       "2                                 0                          0   \n",
       "3                                 0                          0   \n",
       "4                                 0                          1   \n",
       "...                             ...                        ...   \n",
       "119385                            0                          0   \n",
       "119386                            0                          2   \n",
       "119387                            0                          4   \n",
       "119388                            0                          0   \n",
       "119389                            0                          2   \n",
       "\n",
       "       reservation_status reservation_status_date  \n",
       "0               Check-Out              2015-07-01  \n",
       "1               Check-Out              2015-07-01  \n",
       "2               Check-Out              2015-07-02  \n",
       "3               Check-Out              2015-07-02  \n",
       "4               Check-Out              2015-07-03  \n",
       "...                   ...                     ...  \n",
       "119385          Check-Out              2017-09-06  \n",
       "119386          Check-Out              2017-09-07  \n",
       "119387          Check-Out              2017-09-07  \n",
       "119388          Check-Out              2017-09-07  \n",
       "119389          Check-Out              2017-09-07  \n",
       "\n",
       "[119390 rows x 32 columns]"
      ]
     },
     "metadata": {},
     "output_type": "display_data"
    }
   ],
   "source": [
    "df = pd.read_csv('./hotel-booking-demand/hotel_bookings.csv')\n",
    "pd.options.display.max_columns = None\n",
    "display(df)"
   ]
  },
  {
   "cell_type": "code",
   "execution_count": 426,
   "metadata": {
    "id": "Tr9xb8o2X29G"
   },
   "outputs": [
    {
     "name": "stdout",
     "output_type": "stream",
     "text": [
      "<class 'pandas.core.frame.DataFrame'>\n",
      "RangeIndex: 119390 entries, 0 to 119389\n",
      "Data columns (total 32 columns):\n",
      " #   Column                          Non-Null Count   Dtype  \n",
      "---  ------                          --------------   -----  \n",
      " 0   hotel                           119390 non-null  object \n",
      " 1   is_canceled                     119390 non-null  int64  \n",
      " 2   lead_time                       119390 non-null  int64  \n",
      " 3   arrival_date_year               119390 non-null  int64  \n",
      " 4   arrival_date_month              119390 non-null  object \n",
      " 5   arrival_date_week_number        119390 non-null  int64  \n",
      " 6   arrival_date_day_of_month       119390 non-null  int64  \n",
      " 7   stays_in_weekend_nights         119390 non-null  int64  \n",
      " 8   stays_in_week_nights            119390 non-null  int64  \n",
      " 9   adults                          119390 non-null  int64  \n",
      " 10  children                        119386 non-null  float64\n",
      " 11  babies                          119390 non-null  int64  \n",
      " 12  meal                            119390 non-null  object \n",
      " 13  country                         118902 non-null  object \n",
      " 14  market_segment                  119390 non-null  object \n",
      " 15  distribution_channel            119390 non-null  object \n",
      " 16  is_repeated_guest               119390 non-null  int64  \n",
      " 17  previous_cancellations          119390 non-null  int64  \n",
      " 18  previous_bookings_not_canceled  119390 non-null  int64  \n",
      " 19  reserved_room_type              119390 non-null  object \n",
      " 20  assigned_room_type              119390 non-null  object \n",
      " 21  booking_changes                 119390 non-null  int64  \n",
      " 22  deposit_type                    119390 non-null  object \n",
      " 23  agent                           103050 non-null  float64\n",
      " 24  company                         6797 non-null    float64\n",
      " 25  days_in_waiting_list            119390 non-null  int64  \n",
      " 26  customer_type                   119390 non-null  object \n",
      " 27  adr                             119390 non-null  float64\n",
      " 28  required_car_parking_spaces     119390 non-null  int64  \n",
      " 29  total_of_special_requests       119390 non-null  int64  \n",
      " 30  reservation_status              119390 non-null  object \n",
      " 31  reservation_status_date         119390 non-null  object \n",
      "dtypes: float64(4), int64(16), object(12)\n",
      "memory usage: 29.1+ MB\n"
     ]
    }
   ],
   "source": [
    "df.info()"
   ]
  },
  {
   "cell_type": "code",
   "execution_count": 427,
   "metadata": {},
   "outputs": [
    {
     "data": {
      "text/plain": [
       "hotel                                  0\n",
       "is_canceled                            0\n",
       "lead_time                              0\n",
       "arrival_date_year                      0\n",
       "arrival_date_month                     0\n",
       "arrival_date_week_number               0\n",
       "arrival_date_day_of_month              0\n",
       "stays_in_weekend_nights                0\n",
       "stays_in_week_nights                   0\n",
       "adults                                 0\n",
       "children                               4\n",
       "babies                                 0\n",
       "meal                                   0\n",
       "country                              488\n",
       "market_segment                         0\n",
       "distribution_channel                   0\n",
       "is_repeated_guest                      0\n",
       "previous_cancellations                 0\n",
       "previous_bookings_not_canceled         0\n",
       "reserved_room_type                     0\n",
       "assigned_room_type                     0\n",
       "booking_changes                        0\n",
       "deposit_type                           0\n",
       "agent                              16340\n",
       "company                           112593\n",
       "days_in_waiting_list                   0\n",
       "customer_type                          0\n",
       "adr                                    0\n",
       "required_car_parking_spaces            0\n",
       "total_of_special_requests              0\n",
       "reservation_status                     0\n",
       "reservation_status_date                0\n",
       "dtype: int64"
      ]
     },
     "execution_count": 427,
     "metadata": {},
     "output_type": "execute_result"
    }
   ],
   "source": [
    "#check for missing values\n",
    "df.isnull().sum()"
   ]
  },
  {
   "cell_type": "markdown",
   "metadata": {},
   "source": [
    "### Drop data with mistaken guests"
   ]
  },
  {
   "cell_type": "code",
   "execution_count": 428,
   "metadata": {},
   "outputs": [],
   "source": [
    "#drop data with no guests or no adults\n",
    "no_guests = list(df.loc[df.adults + df.children + df.babies == 0].index)\n",
    "no_adults = list(df.loc[df.adults == 0].index)"
   ]
  },
  {
   "cell_type": "code",
   "execution_count": 429,
   "metadata": {},
   "outputs": [
    {
     "data": {
      "text/plain": [
       "(118987, 32)"
      ]
     },
     "execution_count": 429,
     "metadata": {},
     "output_type": "execute_result"
    }
   ],
   "source": [
    "df.drop(df.index[list(set(no_guests + no_adults))], inplace = True)\n",
    "df.shape"
   ]
  },
  {
   "cell_type": "markdown",
   "metadata": {},
   "source": [
    "### Convert time string to datetime"
   ]
  },
  {
   "cell_type": "code",
   "execution_count": 430,
   "metadata": {},
   "outputs": [],
   "source": [
    "#convert 'arrival_date' to datetime\n",
    "arrival_date = df[['arrival_date_year', 'arrival_date_month', 'arrival_date_day_of_month']].copy()\n",
    "arrival_date.columns = ['year', 'month', 'day']\n",
    "month_map = {\n",
    "    'January':1,\n",
    "    'February':2,\n",
    "    'March':3,\n",
    "    'April':4,\n",
    "    'May':5,\n",
    "    'June':6,\n",
    "    'July':7,\n",
    "    'August':8,\n",
    "    'September':9,\n",
    "    'October':10,\n",
    "    'November':11,\n",
    "    'December':12\n",
    "}\n",
    "\n",
    "arrival_date['month'] = arrival_date.month.replace(month_map)\n",
    "arrival_date = pd.to_datetime(arrival_date)\n",
    "df.insert(loc = 7 , column = 'arrival_date', value = arrival_date) "
   ]
  },
  {
   "cell_type": "code",
   "execution_count": 431,
   "metadata": {
    "id": "-fYszMwoX29G"
   },
   "outputs": [],
   "source": [
    "#convert 'reservation_date' to datetime\n",
    "reservation_date = pd.to_datetime(df.reservation_status_date)"
   ]
  },
  {
   "cell_type": "code",
   "execution_count": 432,
   "metadata": {
    "id": "lYMi7n-bX29G"
   },
   "outputs": [
    {
     "data": {
      "text/html": [
       "<div>\n",
       "<style scoped>\n",
       "    .dataframe tbody tr th:only-of-type {\n",
       "        vertical-align: middle;\n",
       "    }\n",
       "\n",
       "    .dataframe tbody tr th {\n",
       "        vertical-align: top;\n",
       "    }\n",
       "\n",
       "    .dataframe thead th {\n",
       "        text-align: right;\n",
       "    }\n",
       "</style>\n",
       "<table border=\"1\" class=\"dataframe\">\n",
       "  <thead>\n",
       "    <tr style=\"text-align: right;\">\n",
       "      <th></th>\n",
       "      <th>hotel</th>\n",
       "      <th>is_canceled</th>\n",
       "      <th>lead_time</th>\n",
       "      <th>arrival_date_year</th>\n",
       "      <th>arrival_date_month</th>\n",
       "      <th>arrival_date_week_number</th>\n",
       "      <th>arrival_date_day_of_month</th>\n",
       "      <th>arrival_date</th>\n",
       "      <th>stays_in_weekend_nights</th>\n",
       "      <th>stays_in_week_nights</th>\n",
       "      <th>adults</th>\n",
       "      <th>children</th>\n",
       "      <th>babies</th>\n",
       "      <th>meal</th>\n",
       "      <th>country</th>\n",
       "      <th>market_segment</th>\n",
       "      <th>distribution_channel</th>\n",
       "      <th>is_repeated_guest</th>\n",
       "      <th>previous_cancellations</th>\n",
       "      <th>previous_bookings_not_canceled</th>\n",
       "      <th>reserved_room_type</th>\n",
       "      <th>assigned_room_type</th>\n",
       "      <th>booking_changes</th>\n",
       "      <th>deposit_type</th>\n",
       "      <th>agent</th>\n",
       "      <th>company</th>\n",
       "      <th>days_in_waiting_list</th>\n",
       "      <th>customer_type</th>\n",
       "      <th>adr</th>\n",
       "      <th>required_car_parking_spaces</th>\n",
       "      <th>total_of_special_requests</th>\n",
       "      <th>reservation_status</th>\n",
       "      <th>reservation_status_date</th>\n",
       "      <th>reservation_date_year</th>\n",
       "      <th>reservation_date_month</th>\n",
       "      <th>reservation_date_day</th>\n",
       "    </tr>\n",
       "  </thead>\n",
       "  <tbody>\n",
       "    <tr>\n",
       "      <th>0</th>\n",
       "      <td>Resort Hotel</td>\n",
       "      <td>0</td>\n",
       "      <td>342</td>\n",
       "      <td>2015</td>\n",
       "      <td>July</td>\n",
       "      <td>27</td>\n",
       "      <td>1</td>\n",
       "      <td>2015-07-01</td>\n",
       "      <td>0</td>\n",
       "      <td>0</td>\n",
       "      <td>2</td>\n",
       "      <td>0.0</td>\n",
       "      <td>0</td>\n",
       "      <td>BB</td>\n",
       "      <td>PRT</td>\n",
       "      <td>Direct</td>\n",
       "      <td>Direct</td>\n",
       "      <td>0</td>\n",
       "      <td>0</td>\n",
       "      <td>0</td>\n",
       "      <td>C</td>\n",
       "      <td>C</td>\n",
       "      <td>3</td>\n",
       "      <td>No Deposit</td>\n",
       "      <td>NaN</td>\n",
       "      <td>NaN</td>\n",
       "      <td>0</td>\n",
       "      <td>Transient</td>\n",
       "      <td>0.00</td>\n",
       "      <td>0</td>\n",
       "      <td>0</td>\n",
       "      <td>Check-Out</td>\n",
       "      <td>2015-07-01</td>\n",
       "      <td>2015</td>\n",
       "      <td>7</td>\n",
       "      <td>1</td>\n",
       "    </tr>\n",
       "    <tr>\n",
       "      <th>1</th>\n",
       "      <td>Resort Hotel</td>\n",
       "      <td>0</td>\n",
       "      <td>737</td>\n",
       "      <td>2015</td>\n",
       "      <td>July</td>\n",
       "      <td>27</td>\n",
       "      <td>1</td>\n",
       "      <td>2015-07-01</td>\n",
       "      <td>0</td>\n",
       "      <td>0</td>\n",
       "      <td>2</td>\n",
       "      <td>0.0</td>\n",
       "      <td>0</td>\n",
       "      <td>BB</td>\n",
       "      <td>PRT</td>\n",
       "      <td>Direct</td>\n",
       "      <td>Direct</td>\n",
       "      <td>0</td>\n",
       "      <td>0</td>\n",
       "      <td>0</td>\n",
       "      <td>C</td>\n",
       "      <td>C</td>\n",
       "      <td>4</td>\n",
       "      <td>No Deposit</td>\n",
       "      <td>NaN</td>\n",
       "      <td>NaN</td>\n",
       "      <td>0</td>\n",
       "      <td>Transient</td>\n",
       "      <td>0.00</td>\n",
       "      <td>0</td>\n",
       "      <td>0</td>\n",
       "      <td>Check-Out</td>\n",
       "      <td>2015-07-01</td>\n",
       "      <td>2015</td>\n",
       "      <td>7</td>\n",
       "      <td>1</td>\n",
       "    </tr>\n",
       "    <tr>\n",
       "      <th>2</th>\n",
       "      <td>Resort Hotel</td>\n",
       "      <td>0</td>\n",
       "      <td>7</td>\n",
       "      <td>2015</td>\n",
       "      <td>July</td>\n",
       "      <td>27</td>\n",
       "      <td>1</td>\n",
       "      <td>2015-07-01</td>\n",
       "      <td>0</td>\n",
       "      <td>1</td>\n",
       "      <td>1</td>\n",
       "      <td>0.0</td>\n",
       "      <td>0</td>\n",
       "      <td>BB</td>\n",
       "      <td>GBR</td>\n",
       "      <td>Direct</td>\n",
       "      <td>Direct</td>\n",
       "      <td>0</td>\n",
       "      <td>0</td>\n",
       "      <td>0</td>\n",
       "      <td>A</td>\n",
       "      <td>C</td>\n",
       "      <td>0</td>\n",
       "      <td>No Deposit</td>\n",
       "      <td>NaN</td>\n",
       "      <td>NaN</td>\n",
       "      <td>0</td>\n",
       "      <td>Transient</td>\n",
       "      <td>75.00</td>\n",
       "      <td>0</td>\n",
       "      <td>0</td>\n",
       "      <td>Check-Out</td>\n",
       "      <td>2015-07-02</td>\n",
       "      <td>2015</td>\n",
       "      <td>7</td>\n",
       "      <td>2</td>\n",
       "    </tr>\n",
       "    <tr>\n",
       "      <th>3</th>\n",
       "      <td>Resort Hotel</td>\n",
       "      <td>0</td>\n",
       "      <td>13</td>\n",
       "      <td>2015</td>\n",
       "      <td>July</td>\n",
       "      <td>27</td>\n",
       "      <td>1</td>\n",
       "      <td>2015-07-01</td>\n",
       "      <td>0</td>\n",
       "      <td>1</td>\n",
       "      <td>1</td>\n",
       "      <td>0.0</td>\n",
       "      <td>0</td>\n",
       "      <td>BB</td>\n",
       "      <td>GBR</td>\n",
       "      <td>Corporate</td>\n",
       "      <td>Corporate</td>\n",
       "      <td>0</td>\n",
       "      <td>0</td>\n",
       "      <td>0</td>\n",
       "      <td>A</td>\n",
       "      <td>A</td>\n",
       "      <td>0</td>\n",
       "      <td>No Deposit</td>\n",
       "      <td>304.0</td>\n",
       "      <td>NaN</td>\n",
       "      <td>0</td>\n",
       "      <td>Transient</td>\n",
       "      <td>75.00</td>\n",
       "      <td>0</td>\n",
       "      <td>0</td>\n",
       "      <td>Check-Out</td>\n",
       "      <td>2015-07-02</td>\n",
       "      <td>2015</td>\n",
       "      <td>7</td>\n",
       "      <td>2</td>\n",
       "    </tr>\n",
       "    <tr>\n",
       "      <th>4</th>\n",
       "      <td>Resort Hotel</td>\n",
       "      <td>0</td>\n",
       "      <td>14</td>\n",
       "      <td>2015</td>\n",
       "      <td>July</td>\n",
       "      <td>27</td>\n",
       "      <td>1</td>\n",
       "      <td>2015-07-01</td>\n",
       "      <td>0</td>\n",
       "      <td>2</td>\n",
       "      <td>2</td>\n",
       "      <td>0.0</td>\n",
       "      <td>0</td>\n",
       "      <td>BB</td>\n",
       "      <td>GBR</td>\n",
       "      <td>Online TA</td>\n",
       "      <td>TA/TO</td>\n",
       "      <td>0</td>\n",
       "      <td>0</td>\n",
       "      <td>0</td>\n",
       "      <td>A</td>\n",
       "      <td>A</td>\n",
       "      <td>0</td>\n",
       "      <td>No Deposit</td>\n",
       "      <td>240.0</td>\n",
       "      <td>NaN</td>\n",
       "      <td>0</td>\n",
       "      <td>Transient</td>\n",
       "      <td>98.00</td>\n",
       "      <td>0</td>\n",
       "      <td>1</td>\n",
       "      <td>Check-Out</td>\n",
       "      <td>2015-07-03</td>\n",
       "      <td>2015</td>\n",
       "      <td>7</td>\n",
       "      <td>3</td>\n",
       "    </tr>\n",
       "    <tr>\n",
       "      <th>...</th>\n",
       "      <td>...</td>\n",
       "      <td>...</td>\n",
       "      <td>...</td>\n",
       "      <td>...</td>\n",
       "      <td>...</td>\n",
       "      <td>...</td>\n",
       "      <td>...</td>\n",
       "      <td>...</td>\n",
       "      <td>...</td>\n",
       "      <td>...</td>\n",
       "      <td>...</td>\n",
       "      <td>...</td>\n",
       "      <td>...</td>\n",
       "      <td>...</td>\n",
       "      <td>...</td>\n",
       "      <td>...</td>\n",
       "      <td>...</td>\n",
       "      <td>...</td>\n",
       "      <td>...</td>\n",
       "      <td>...</td>\n",
       "      <td>...</td>\n",
       "      <td>...</td>\n",
       "      <td>...</td>\n",
       "      <td>...</td>\n",
       "      <td>...</td>\n",
       "      <td>...</td>\n",
       "      <td>...</td>\n",
       "      <td>...</td>\n",
       "      <td>...</td>\n",
       "      <td>...</td>\n",
       "      <td>...</td>\n",
       "      <td>...</td>\n",
       "      <td>...</td>\n",
       "      <td>...</td>\n",
       "      <td>...</td>\n",
       "      <td>...</td>\n",
       "    </tr>\n",
       "    <tr>\n",
       "      <th>119385</th>\n",
       "      <td>City Hotel</td>\n",
       "      <td>0</td>\n",
       "      <td>23</td>\n",
       "      <td>2017</td>\n",
       "      <td>August</td>\n",
       "      <td>35</td>\n",
       "      <td>30</td>\n",
       "      <td>2017-08-30</td>\n",
       "      <td>2</td>\n",
       "      <td>5</td>\n",
       "      <td>2</td>\n",
       "      <td>0.0</td>\n",
       "      <td>0</td>\n",
       "      <td>BB</td>\n",
       "      <td>BEL</td>\n",
       "      <td>Offline TA/TO</td>\n",
       "      <td>TA/TO</td>\n",
       "      <td>0</td>\n",
       "      <td>0</td>\n",
       "      <td>0</td>\n",
       "      <td>A</td>\n",
       "      <td>A</td>\n",
       "      <td>0</td>\n",
       "      <td>No Deposit</td>\n",
       "      <td>394.0</td>\n",
       "      <td>NaN</td>\n",
       "      <td>0</td>\n",
       "      <td>Transient</td>\n",
       "      <td>96.14</td>\n",
       "      <td>0</td>\n",
       "      <td>0</td>\n",
       "      <td>Check-Out</td>\n",
       "      <td>2017-09-06</td>\n",
       "      <td>2017</td>\n",
       "      <td>9</td>\n",
       "      <td>6</td>\n",
       "    </tr>\n",
       "    <tr>\n",
       "      <th>119386</th>\n",
       "      <td>City Hotel</td>\n",
       "      <td>0</td>\n",
       "      <td>102</td>\n",
       "      <td>2017</td>\n",
       "      <td>August</td>\n",
       "      <td>35</td>\n",
       "      <td>31</td>\n",
       "      <td>2017-08-31</td>\n",
       "      <td>2</td>\n",
       "      <td>5</td>\n",
       "      <td>3</td>\n",
       "      <td>0.0</td>\n",
       "      <td>0</td>\n",
       "      <td>BB</td>\n",
       "      <td>FRA</td>\n",
       "      <td>Online TA</td>\n",
       "      <td>TA/TO</td>\n",
       "      <td>0</td>\n",
       "      <td>0</td>\n",
       "      <td>0</td>\n",
       "      <td>E</td>\n",
       "      <td>E</td>\n",
       "      <td>0</td>\n",
       "      <td>No Deposit</td>\n",
       "      <td>9.0</td>\n",
       "      <td>NaN</td>\n",
       "      <td>0</td>\n",
       "      <td>Transient</td>\n",
       "      <td>225.43</td>\n",
       "      <td>0</td>\n",
       "      <td>2</td>\n",
       "      <td>Check-Out</td>\n",
       "      <td>2017-09-07</td>\n",
       "      <td>2017</td>\n",
       "      <td>9</td>\n",
       "      <td>7</td>\n",
       "    </tr>\n",
       "    <tr>\n",
       "      <th>119387</th>\n",
       "      <td>City Hotel</td>\n",
       "      <td>0</td>\n",
       "      <td>34</td>\n",
       "      <td>2017</td>\n",
       "      <td>August</td>\n",
       "      <td>35</td>\n",
       "      <td>31</td>\n",
       "      <td>2017-08-31</td>\n",
       "      <td>2</td>\n",
       "      <td>5</td>\n",
       "      <td>2</td>\n",
       "      <td>0.0</td>\n",
       "      <td>0</td>\n",
       "      <td>BB</td>\n",
       "      <td>DEU</td>\n",
       "      <td>Online TA</td>\n",
       "      <td>TA/TO</td>\n",
       "      <td>0</td>\n",
       "      <td>0</td>\n",
       "      <td>0</td>\n",
       "      <td>D</td>\n",
       "      <td>D</td>\n",
       "      <td>0</td>\n",
       "      <td>No Deposit</td>\n",
       "      <td>9.0</td>\n",
       "      <td>NaN</td>\n",
       "      <td>0</td>\n",
       "      <td>Transient</td>\n",
       "      <td>157.71</td>\n",
       "      <td>0</td>\n",
       "      <td>4</td>\n",
       "      <td>Check-Out</td>\n",
       "      <td>2017-09-07</td>\n",
       "      <td>2017</td>\n",
       "      <td>9</td>\n",
       "      <td>7</td>\n",
       "    </tr>\n",
       "    <tr>\n",
       "      <th>119388</th>\n",
       "      <td>City Hotel</td>\n",
       "      <td>0</td>\n",
       "      <td>109</td>\n",
       "      <td>2017</td>\n",
       "      <td>August</td>\n",
       "      <td>35</td>\n",
       "      <td>31</td>\n",
       "      <td>2017-08-31</td>\n",
       "      <td>2</td>\n",
       "      <td>5</td>\n",
       "      <td>2</td>\n",
       "      <td>0.0</td>\n",
       "      <td>0</td>\n",
       "      <td>BB</td>\n",
       "      <td>GBR</td>\n",
       "      <td>Online TA</td>\n",
       "      <td>TA/TO</td>\n",
       "      <td>0</td>\n",
       "      <td>0</td>\n",
       "      <td>0</td>\n",
       "      <td>A</td>\n",
       "      <td>A</td>\n",
       "      <td>0</td>\n",
       "      <td>No Deposit</td>\n",
       "      <td>89.0</td>\n",
       "      <td>NaN</td>\n",
       "      <td>0</td>\n",
       "      <td>Transient</td>\n",
       "      <td>104.40</td>\n",
       "      <td>0</td>\n",
       "      <td>0</td>\n",
       "      <td>Check-Out</td>\n",
       "      <td>2017-09-07</td>\n",
       "      <td>2017</td>\n",
       "      <td>9</td>\n",
       "      <td>7</td>\n",
       "    </tr>\n",
       "    <tr>\n",
       "      <th>119389</th>\n",
       "      <td>City Hotel</td>\n",
       "      <td>0</td>\n",
       "      <td>205</td>\n",
       "      <td>2017</td>\n",
       "      <td>August</td>\n",
       "      <td>35</td>\n",
       "      <td>29</td>\n",
       "      <td>2017-08-29</td>\n",
       "      <td>2</td>\n",
       "      <td>7</td>\n",
       "      <td>2</td>\n",
       "      <td>0.0</td>\n",
       "      <td>0</td>\n",
       "      <td>HB</td>\n",
       "      <td>DEU</td>\n",
       "      <td>Online TA</td>\n",
       "      <td>TA/TO</td>\n",
       "      <td>0</td>\n",
       "      <td>0</td>\n",
       "      <td>0</td>\n",
       "      <td>A</td>\n",
       "      <td>A</td>\n",
       "      <td>0</td>\n",
       "      <td>No Deposit</td>\n",
       "      <td>9.0</td>\n",
       "      <td>NaN</td>\n",
       "      <td>0</td>\n",
       "      <td>Transient</td>\n",
       "      <td>151.20</td>\n",
       "      <td>0</td>\n",
       "      <td>2</td>\n",
       "      <td>Check-Out</td>\n",
       "      <td>2017-09-07</td>\n",
       "      <td>2017</td>\n",
       "      <td>9</td>\n",
       "      <td>7</td>\n",
       "    </tr>\n",
       "  </tbody>\n",
       "</table>\n",
       "<p>118987 rows × 36 columns</p>\n",
       "</div>"
      ],
      "text/plain": [
       "               hotel  is_canceled  lead_time  arrival_date_year  \\\n",
       "0       Resort Hotel            0        342               2015   \n",
       "1       Resort Hotel            0        737               2015   \n",
       "2       Resort Hotel            0          7               2015   \n",
       "3       Resort Hotel            0         13               2015   \n",
       "4       Resort Hotel            0         14               2015   \n",
       "...              ...          ...        ...                ...   \n",
       "119385    City Hotel            0         23               2017   \n",
       "119386    City Hotel            0        102               2017   \n",
       "119387    City Hotel            0         34               2017   \n",
       "119388    City Hotel            0        109               2017   \n",
       "119389    City Hotel            0        205               2017   \n",
       "\n",
       "       arrival_date_month  arrival_date_week_number  \\\n",
       "0                    July                        27   \n",
       "1                    July                        27   \n",
       "2                    July                        27   \n",
       "3                    July                        27   \n",
       "4                    July                        27   \n",
       "...                   ...                       ...   \n",
       "119385             August                        35   \n",
       "119386             August                        35   \n",
       "119387             August                        35   \n",
       "119388             August                        35   \n",
       "119389             August                        35   \n",
       "\n",
       "        arrival_date_day_of_month arrival_date  stays_in_weekend_nights  \\\n",
       "0                               1   2015-07-01                        0   \n",
       "1                               1   2015-07-01                        0   \n",
       "2                               1   2015-07-01                        0   \n",
       "3                               1   2015-07-01                        0   \n",
       "4                               1   2015-07-01                        0   \n",
       "...                           ...          ...                      ...   \n",
       "119385                         30   2017-08-30                        2   \n",
       "119386                         31   2017-08-31                        2   \n",
       "119387                         31   2017-08-31                        2   \n",
       "119388                         31   2017-08-31                        2   \n",
       "119389                         29   2017-08-29                        2   \n",
       "\n",
       "        stays_in_week_nights  adults  children  babies meal country  \\\n",
       "0                          0       2       0.0       0   BB     PRT   \n",
       "1                          0       2       0.0       0   BB     PRT   \n",
       "2                          1       1       0.0       0   BB     GBR   \n",
       "3                          1       1       0.0       0   BB     GBR   \n",
       "4                          2       2       0.0       0   BB     GBR   \n",
       "...                      ...     ...       ...     ...  ...     ...   \n",
       "119385                     5       2       0.0       0   BB     BEL   \n",
       "119386                     5       3       0.0       0   BB     FRA   \n",
       "119387                     5       2       0.0       0   BB     DEU   \n",
       "119388                     5       2       0.0       0   BB     GBR   \n",
       "119389                     7       2       0.0       0   HB     DEU   \n",
       "\n",
       "       market_segment distribution_channel  is_repeated_guest  \\\n",
       "0              Direct               Direct                  0   \n",
       "1              Direct               Direct                  0   \n",
       "2              Direct               Direct                  0   \n",
       "3           Corporate            Corporate                  0   \n",
       "4           Online TA                TA/TO                  0   \n",
       "...               ...                  ...                ...   \n",
       "119385  Offline TA/TO                TA/TO                  0   \n",
       "119386      Online TA                TA/TO                  0   \n",
       "119387      Online TA                TA/TO                  0   \n",
       "119388      Online TA                TA/TO                  0   \n",
       "119389      Online TA                TA/TO                  0   \n",
       "\n",
       "        previous_cancellations  previous_bookings_not_canceled  \\\n",
       "0                            0                               0   \n",
       "1                            0                               0   \n",
       "2                            0                               0   \n",
       "3                            0                               0   \n",
       "4                            0                               0   \n",
       "...                        ...                             ...   \n",
       "119385                       0                               0   \n",
       "119386                       0                               0   \n",
       "119387                       0                               0   \n",
       "119388                       0                               0   \n",
       "119389                       0                               0   \n",
       "\n",
       "       reserved_room_type assigned_room_type  booking_changes deposit_type  \\\n",
       "0                       C                  C                3   No Deposit   \n",
       "1                       C                  C                4   No Deposit   \n",
       "2                       A                  C                0   No Deposit   \n",
       "3                       A                  A                0   No Deposit   \n",
       "4                       A                  A                0   No Deposit   \n",
       "...                   ...                ...              ...          ...   \n",
       "119385                  A                  A                0   No Deposit   \n",
       "119386                  E                  E                0   No Deposit   \n",
       "119387                  D                  D                0   No Deposit   \n",
       "119388                  A                  A                0   No Deposit   \n",
       "119389                  A                  A                0   No Deposit   \n",
       "\n",
       "        agent  company  days_in_waiting_list customer_type     adr  \\\n",
       "0         NaN      NaN                     0     Transient    0.00   \n",
       "1         NaN      NaN                     0     Transient    0.00   \n",
       "2         NaN      NaN                     0     Transient   75.00   \n",
       "3       304.0      NaN                     0     Transient   75.00   \n",
       "4       240.0      NaN                     0     Transient   98.00   \n",
       "...       ...      ...                   ...           ...     ...   \n",
       "119385  394.0      NaN                     0     Transient   96.14   \n",
       "119386    9.0      NaN                     0     Transient  225.43   \n",
       "119387    9.0      NaN                     0     Transient  157.71   \n",
       "119388   89.0      NaN                     0     Transient  104.40   \n",
       "119389    9.0      NaN                     0     Transient  151.20   \n",
       "\n",
       "        required_car_parking_spaces  total_of_special_requests  \\\n",
       "0                                 0                          0   \n",
       "1                                 0                          0   \n",
       "2                                 0                          0   \n",
       "3                                 0                          0   \n",
       "4                                 0                          1   \n",
       "...                             ...                        ...   \n",
       "119385                            0                          0   \n",
       "119386                            0                          2   \n",
       "119387                            0                          4   \n",
       "119388                            0                          0   \n",
       "119389                            0                          2   \n",
       "\n",
       "       reservation_status reservation_status_date  reservation_date_year  \\\n",
       "0               Check-Out              2015-07-01                   2015   \n",
       "1               Check-Out              2015-07-01                   2015   \n",
       "2               Check-Out              2015-07-02                   2015   \n",
       "3               Check-Out              2015-07-02                   2015   \n",
       "4               Check-Out              2015-07-03                   2015   \n",
       "...                   ...                     ...                    ...   \n",
       "119385          Check-Out              2017-09-06                   2017   \n",
       "119386          Check-Out              2017-09-07                   2017   \n",
       "119387          Check-Out              2017-09-07                   2017   \n",
       "119388          Check-Out              2017-09-07                   2017   \n",
       "119389          Check-Out              2017-09-07                   2017   \n",
       "\n",
       "        reservation_date_month  reservation_date_day  \n",
       "0                            7                     1  \n",
       "1                            7                     1  \n",
       "2                            7                     2  \n",
       "3                            7                     2  \n",
       "4                            7                     3  \n",
       "...                        ...                   ...  \n",
       "119385                       9                     6  \n",
       "119386                       9                     7  \n",
       "119387                       9                     7  \n",
       "119388                       9                     7  \n",
       "119389                       9                     7  \n",
       "\n",
       "[118987 rows x 36 columns]"
      ]
     },
     "execution_count": 432,
     "metadata": {},
     "output_type": "execute_result"
    }
   ],
   "source": [
    "#add additional information to the df\n",
    "df['reservation_date_year'] = pd.DatetimeIndex(df.reservation_status_date).year\n",
    "df['reservation_date_month'] = pd.DatetimeIndex(df.reservation_status_date).month\n",
    "df['reservation_date_day'] = reservation_date.dt.day\n",
    "#df = df.drop(['reservation_status_date'], axis = 1)\n",
    "df"
   ]
  },
  {
   "cell_type": "markdown",
   "metadata": {},
   "source": [
    "### Seperate city hotel and resort hotel"
   ]
  },
  {
   "cell_type": "code",
   "execution_count": 433,
   "metadata": {},
   "outputs": [],
   "source": [
    "rh_df = df[df.hotel == 'Resort Hotel']\n",
    "ch_df = df[df.hotel == 'City Hotel']"
   ]
  },
  {
   "cell_type": "code",
   "execution_count": 434,
   "metadata": {
    "id": "HwolDg5VX29G"
   },
   "outputs": [],
   "source": [
    "import jovian"
   ]
  },
  {
   "cell_type": "code",
   "execution_count": 479,
   "metadata": {
    "id": "hlH7rE17X29H",
    "outputId": "7ce4d103-b1e7-4674-a115-ca90cef1472e"
   },
   "outputs": [
    {
     "data": {
      "application/javascript": [
       "window.require && require([\"base/js/namespace\"],function(Jupyter){Jupyter.notebook.save_checkpoint()})"
      ],
      "text/plain": [
       "<IPython.core.display.Javascript object>"
      ]
     },
     "metadata": {},
     "output_type": "display_data"
    },
    {
     "name": "stdout",
     "output_type": "stream",
     "text": [
      "[jovian] Updating notebook \"sashalai007/zerotopandas-course-project\" on https://jovian.com/\u001b[0m\n",
      "[jovian] Committed successfully! https://jovian.com/sashalai007/zerotopandas-course-project\u001b[0m\n"
     ]
    },
    {
     "data": {
      "text/plain": [
       "'https://jovian.com/sashalai007/zerotopandas-course-project'"
      ]
     },
     "execution_count": 479,
     "metadata": {},
     "output_type": "execute_result"
    }
   ],
   "source": [
    "jovian.commit()"
   ]
  },
  {
   "cell_type": "markdown",
   "metadata": {
    "id": "1mb8GnpwX29H"
   },
   "source": [
    "## Exploratory Analysis and Visualization\n",
    "\n",
    "We will explore and visualize some of the information we hope to know.\n",
    "\n"
   ]
  },
  {
   "cell_type": "markdown",
   "metadata": {
    "id": "Nbjqe3ikX29H"
   },
   "source": [
    "Let's begin by importing`matplotlib.pyplot` and `seaborn`."
   ]
  },
  {
   "cell_type": "code",
   "execution_count": 436,
   "metadata": {
    "id": "imH3gz6SX29I"
   },
   "outputs": [],
   "source": [
    "import seaborn as sns\n",
    "import matplotlib\n",
    "import matplotlib.pyplot as plt\n",
    "import plotly.express as px\n",
    "%matplotlib inline\n",
    "\n",
    "sns.set_style('darkgrid')\n",
    "matplotlib.rcParams['font.size'] = 14\n",
    "matplotlib.rcParams['figure.figsize'] = (9, 5)\n",
    "matplotlib.rcParams['figure.facecolor'] = '#00000000'"
   ]
  },
  {
   "cell_type": "markdown",
   "metadata": {},
   "source": [
    "### Statistics of numeric columns"
   ]
  },
  {
   "cell_type": "code",
   "execution_count": 437,
   "metadata": {},
   "outputs": [
    {
     "data": {
      "text/html": [
       "<div>\n",
       "<style scoped>\n",
       "    .dataframe tbody tr th:only-of-type {\n",
       "        vertical-align: middle;\n",
       "    }\n",
       "\n",
       "    .dataframe tbody tr th {\n",
       "        vertical-align: top;\n",
       "    }\n",
       "\n",
       "    .dataframe thead th {\n",
       "        text-align: right;\n",
       "    }\n",
       "</style>\n",
       "<table border=\"1\" class=\"dataframe\">\n",
       "  <thead>\n",
       "    <tr style=\"text-align: right;\">\n",
       "      <th></th>\n",
       "      <th>is_canceled</th>\n",
       "      <th>lead_time</th>\n",
       "      <th>arrival_date_year</th>\n",
       "      <th>arrival_date_week_number</th>\n",
       "      <th>arrival_date_day_of_month</th>\n",
       "      <th>stays_in_weekend_nights</th>\n",
       "      <th>stays_in_week_nights</th>\n",
       "      <th>adults</th>\n",
       "      <th>children</th>\n",
       "      <th>babies</th>\n",
       "      <th>is_repeated_guest</th>\n",
       "      <th>previous_cancellations</th>\n",
       "      <th>previous_bookings_not_canceled</th>\n",
       "      <th>booking_changes</th>\n",
       "      <th>agent</th>\n",
       "      <th>company</th>\n",
       "      <th>days_in_waiting_list</th>\n",
       "      <th>adr</th>\n",
       "      <th>required_car_parking_spaces</th>\n",
       "      <th>total_of_special_requests</th>\n",
       "      <th>reservation_date_year</th>\n",
       "      <th>reservation_date_month</th>\n",
       "      <th>reservation_date_day</th>\n",
       "    </tr>\n",
       "  </thead>\n",
       "  <tbody>\n",
       "    <tr>\n",
       "      <th>count</th>\n",
       "      <td>118987.000000</td>\n",
       "      <td>118987.000000</td>\n",
       "      <td>118987.000000</td>\n",
       "      <td>118987.000000</td>\n",
       "      <td>118987.000000</td>\n",
       "      <td>118987.00000</td>\n",
       "      <td>118987.000000</td>\n",
       "      <td>118987.000000</td>\n",
       "      <td>118983.000000</td>\n",
       "      <td>118987.000000</td>\n",
       "      <td>118987.000000</td>\n",
       "      <td>118987.000000</td>\n",
       "      <td>118987.000000</td>\n",
       "      <td>118987.000000</td>\n",
       "      <td>102724.000000</td>\n",
       "      <td>6766.000000</td>\n",
       "      <td>118987.000000</td>\n",
       "      <td>118987.000000</td>\n",
       "      <td>118987.000000</td>\n",
       "      <td>118987.000000</td>\n",
       "      <td>118987.000000</td>\n",
       "      <td>118987.000000</td>\n",
       "      <td>118987.00000</td>\n",
       "    </tr>\n",
       "    <tr>\n",
       "      <th>mean</th>\n",
       "      <td>0.370755</td>\n",
       "      <td>104.070537</td>\n",
       "      <td>2016.156362</td>\n",
       "      <td>27.164144</td>\n",
       "      <td>15.796768</td>\n",
       "      <td>0.92695</td>\n",
       "      <td>2.499046</td>\n",
       "      <td>1.862691</td>\n",
       "      <td>0.100435</td>\n",
       "      <td>0.007950</td>\n",
       "      <td>0.031550</td>\n",
       "      <td>0.087337</td>\n",
       "      <td>0.137343</td>\n",
       "      <td>0.218528</td>\n",
       "      <td>86.888371</td>\n",
       "      <td>189.133461</td>\n",
       "      <td>2.325565</td>\n",
       "      <td>102.008076</td>\n",
       "      <td>0.062654</td>\n",
       "      <td>0.570642</td>\n",
       "      <td>2016.093506</td>\n",
       "      <td>6.333381</td>\n",
       "      <td>15.66556</td>\n",
       "    </tr>\n",
       "    <tr>\n",
       "      <th>std</th>\n",
       "      <td>0.483009</td>\n",
       "      <td>106.890775</td>\n",
       "      <td>0.707742</td>\n",
       "      <td>13.598809</td>\n",
       "      <td>8.781186</td>\n",
       "      <td>0.99527</td>\n",
       "      <td>1.897763</td>\n",
       "      <td>0.570060</td>\n",
       "      <td>0.390222</td>\n",
       "      <td>0.097473</td>\n",
       "      <td>0.174799</td>\n",
       "      <td>0.845693</td>\n",
       "      <td>1.499527</td>\n",
       "      <td>0.638088</td>\n",
       "      <td>110.846868</td>\n",
       "      <td>131.585964</td>\n",
       "      <td>17.614198</td>\n",
       "      <td>50.448822</td>\n",
       "      <td>0.245544</td>\n",
       "      <td>0.792400</td>\n",
       "      <td>0.715641</td>\n",
       "      <td>3.345472</td>\n",
       "      <td>8.77882</td>\n",
       "    </tr>\n",
       "    <tr>\n",
       "      <th>min</th>\n",
       "      <td>0.000000</td>\n",
       "      <td>0.000000</td>\n",
       "      <td>2015.000000</td>\n",
       "      <td>1.000000</td>\n",
       "      <td>1.000000</td>\n",
       "      <td>0.00000</td>\n",
       "      <td>0.000000</td>\n",
       "      <td>1.000000</td>\n",
       "      <td>0.000000</td>\n",
       "      <td>0.000000</td>\n",
       "      <td>0.000000</td>\n",
       "      <td>0.000000</td>\n",
       "      <td>0.000000</td>\n",
       "      <td>0.000000</td>\n",
       "      <td>1.000000</td>\n",
       "      <td>6.000000</td>\n",
       "      <td>0.000000</td>\n",
       "      <td>-6.380000</td>\n",
       "      <td>0.000000</td>\n",
       "      <td>0.000000</td>\n",
       "      <td>2014.000000</td>\n",
       "      <td>1.000000</td>\n",
       "      <td>1.00000</td>\n",
       "    </tr>\n",
       "    <tr>\n",
       "      <th>25%</th>\n",
       "      <td>0.000000</td>\n",
       "      <td>18.000000</td>\n",
       "      <td>2016.000000</td>\n",
       "      <td>16.000000</td>\n",
       "      <td>8.000000</td>\n",
       "      <td>0.00000</td>\n",
       "      <td>1.000000</td>\n",
       "      <td>2.000000</td>\n",
       "      <td>0.000000</td>\n",
       "      <td>0.000000</td>\n",
       "      <td>0.000000</td>\n",
       "      <td>0.000000</td>\n",
       "      <td>0.000000</td>\n",
       "      <td>0.000000</td>\n",
       "      <td>9.000000</td>\n",
       "      <td>62.000000</td>\n",
       "      <td>0.000000</td>\n",
       "      <td>69.500000</td>\n",
       "      <td>0.000000</td>\n",
       "      <td>0.000000</td>\n",
       "      <td>2016.000000</td>\n",
       "      <td>3.000000</td>\n",
       "      <td>8.00000</td>\n",
       "    </tr>\n",
       "    <tr>\n",
       "      <th>50%</th>\n",
       "      <td>0.000000</td>\n",
       "      <td>69.000000</td>\n",
       "      <td>2016.000000</td>\n",
       "      <td>28.000000</td>\n",
       "      <td>16.000000</td>\n",
       "      <td>1.00000</td>\n",
       "      <td>2.000000</td>\n",
       "      <td>2.000000</td>\n",
       "      <td>0.000000</td>\n",
       "      <td>0.000000</td>\n",
       "      <td>0.000000</td>\n",
       "      <td>0.000000</td>\n",
       "      <td>0.000000</td>\n",
       "      <td>0.000000</td>\n",
       "      <td>14.000000</td>\n",
       "      <td>178.000000</td>\n",
       "      <td>0.000000</td>\n",
       "      <td>95.000000</td>\n",
       "      <td>0.000000</td>\n",
       "      <td>0.000000</td>\n",
       "      <td>2016.000000</td>\n",
       "      <td>6.000000</td>\n",
       "      <td>16.00000</td>\n",
       "    </tr>\n",
       "    <tr>\n",
       "      <th>75%</th>\n",
       "      <td>1.000000</td>\n",
       "      <td>160.000000</td>\n",
       "      <td>2017.000000</td>\n",
       "      <td>38.000000</td>\n",
       "      <td>23.000000</td>\n",
       "      <td>2.00000</td>\n",
       "      <td>3.000000</td>\n",
       "      <td>2.000000</td>\n",
       "      <td>0.000000</td>\n",
       "      <td>0.000000</td>\n",
       "      <td>0.000000</td>\n",
       "      <td>0.000000</td>\n",
       "      <td>0.000000</td>\n",
       "      <td>0.000000</td>\n",
       "      <td>229.000000</td>\n",
       "      <td>270.000000</td>\n",
       "      <td>0.000000</td>\n",
       "      <td>126.000000</td>\n",
       "      <td>0.000000</td>\n",
       "      <td>1.000000</td>\n",
       "      <td>2017.000000</td>\n",
       "      <td>9.000000</td>\n",
       "      <td>23.00000</td>\n",
       "    </tr>\n",
       "    <tr>\n",
       "      <th>max</th>\n",
       "      <td>1.000000</td>\n",
       "      <td>737.000000</td>\n",
       "      <td>2017.000000</td>\n",
       "      <td>53.000000</td>\n",
       "      <td>31.000000</td>\n",
       "      <td>19.00000</td>\n",
       "      <td>50.000000</td>\n",
       "      <td>55.000000</td>\n",
       "      <td>10.000000</td>\n",
       "      <td>10.000000</td>\n",
       "      <td>1.000000</td>\n",
       "      <td>26.000000</td>\n",
       "      <td>72.000000</td>\n",
       "      <td>18.000000</td>\n",
       "      <td>535.000000</td>\n",
       "      <td>543.000000</td>\n",
       "      <td>391.000000</td>\n",
       "      <td>5400.000000</td>\n",
       "      <td>8.000000</td>\n",
       "      <td>5.000000</td>\n",
       "      <td>2017.000000</td>\n",
       "      <td>12.000000</td>\n",
       "      <td>31.00000</td>\n",
       "    </tr>\n",
       "  </tbody>\n",
       "</table>\n",
       "</div>"
      ],
      "text/plain": [
       "         is_canceled      lead_time  arrival_date_year  \\\n",
       "count  118987.000000  118987.000000      118987.000000   \n",
       "mean        0.370755     104.070537        2016.156362   \n",
       "std         0.483009     106.890775           0.707742   \n",
       "min         0.000000       0.000000        2015.000000   \n",
       "25%         0.000000      18.000000        2016.000000   \n",
       "50%         0.000000      69.000000        2016.000000   \n",
       "75%         1.000000     160.000000        2017.000000   \n",
       "max         1.000000     737.000000        2017.000000   \n",
       "\n",
       "       arrival_date_week_number  arrival_date_day_of_month  \\\n",
       "count             118987.000000              118987.000000   \n",
       "mean                  27.164144                  15.796768   \n",
       "std                   13.598809                   8.781186   \n",
       "min                    1.000000                   1.000000   \n",
       "25%                   16.000000                   8.000000   \n",
       "50%                   28.000000                  16.000000   \n",
       "75%                   38.000000                  23.000000   \n",
       "max                   53.000000                  31.000000   \n",
       "\n",
       "       stays_in_weekend_nights  stays_in_week_nights         adults  \\\n",
       "count             118987.00000         118987.000000  118987.000000   \n",
       "mean                   0.92695              2.499046       1.862691   \n",
       "std                    0.99527              1.897763       0.570060   \n",
       "min                    0.00000              0.000000       1.000000   \n",
       "25%                    0.00000              1.000000       2.000000   \n",
       "50%                    1.00000              2.000000       2.000000   \n",
       "75%                    2.00000              3.000000       2.000000   \n",
       "max                   19.00000             50.000000      55.000000   \n",
       "\n",
       "            children         babies  is_repeated_guest  \\\n",
       "count  118983.000000  118987.000000      118987.000000   \n",
       "mean        0.100435       0.007950           0.031550   \n",
       "std         0.390222       0.097473           0.174799   \n",
       "min         0.000000       0.000000           0.000000   \n",
       "25%         0.000000       0.000000           0.000000   \n",
       "50%         0.000000       0.000000           0.000000   \n",
       "75%         0.000000       0.000000           0.000000   \n",
       "max        10.000000      10.000000           1.000000   \n",
       "\n",
       "       previous_cancellations  previous_bookings_not_canceled  \\\n",
       "count           118987.000000                   118987.000000   \n",
       "mean                 0.087337                        0.137343   \n",
       "std                  0.845693                        1.499527   \n",
       "min                  0.000000                        0.000000   \n",
       "25%                  0.000000                        0.000000   \n",
       "50%                  0.000000                        0.000000   \n",
       "75%                  0.000000                        0.000000   \n",
       "max                 26.000000                       72.000000   \n",
       "\n",
       "       booking_changes          agent      company  days_in_waiting_list  \\\n",
       "count    118987.000000  102724.000000  6766.000000         118987.000000   \n",
       "mean          0.218528      86.888371   189.133461              2.325565   \n",
       "std           0.638088     110.846868   131.585964             17.614198   \n",
       "min           0.000000       1.000000     6.000000              0.000000   \n",
       "25%           0.000000       9.000000    62.000000              0.000000   \n",
       "50%           0.000000      14.000000   178.000000              0.000000   \n",
       "75%           0.000000     229.000000   270.000000              0.000000   \n",
       "max          18.000000     535.000000   543.000000            391.000000   \n",
       "\n",
       "                 adr  required_car_parking_spaces  total_of_special_requests  \\\n",
       "count  118987.000000                118987.000000              118987.000000   \n",
       "mean      102.008076                     0.062654                   0.570642   \n",
       "std        50.448822                     0.245544                   0.792400   \n",
       "min        -6.380000                     0.000000                   0.000000   \n",
       "25%        69.500000                     0.000000                   0.000000   \n",
       "50%        95.000000                     0.000000                   0.000000   \n",
       "75%       126.000000                     0.000000                   1.000000   \n",
       "max      5400.000000                     8.000000                   5.000000   \n",
       "\n",
       "       reservation_date_year  reservation_date_month  reservation_date_day  \n",
       "count          118987.000000           118987.000000          118987.00000  \n",
       "mean             2016.093506                6.333381              15.66556  \n",
       "std                 0.715641                3.345472               8.77882  \n",
       "min              2014.000000                1.000000               1.00000  \n",
       "25%              2016.000000                3.000000               8.00000  \n",
       "50%              2016.000000                6.000000              16.00000  \n",
       "75%              2017.000000                9.000000              23.00000  \n",
       "max              2017.000000               12.000000              31.00000  "
      ]
     },
     "execution_count": 437,
     "metadata": {},
     "output_type": "execute_result"
    }
   ],
   "source": [
    "df.describe()"
   ]
  },
  {
   "cell_type": "markdown",
   "metadata": {
    "id": "cgTdpCPnX29K"
   },
   "source": [
    "### Home countries of guests\n",
    "We will explore the home countries of guests from the data given."
   ]
  },
  {
   "cell_type": "code",
   "execution_count": 438,
   "metadata": {},
   "outputs": [],
   "source": [
    "country_count = df.country.value_counts()\n",
    "\n",
    "country_values = list(country_count)\n",
    "country_labels = list(country_count.index)"
   ]
  },
  {
   "cell_type": "code",
   "execution_count": 439,
   "metadata": {
    "scrolled": true
   },
   "outputs": [
    {
     "data": {
      "application/vnd.plotly.v1+json": {
       "config": {
        "plotlyServerURL": "https://plot.ly"
       },
       "data": [
        {
         "domain": {
          "x": [
           0,
           1
          ],
          "y": [
           0,
           1
          ]
         },
         "hovertemplate": "label=%{label}<br>value=%{value}<extra></extra>",
         "labels": [
          "PRT",
          "GBR",
          "FRA",
          "ESP",
          "DEU",
          "ITA",
          "IRL",
          "BEL",
          "BRA",
          "NLD",
          "USA",
          "CHE",
          "CN",
          "AUT",
          "SWE",
          "CHN",
          "POL",
          "ISR",
          "RUS",
          "NOR",
          "ROU",
          "FIN",
          "DNK",
          "AUS",
          "AGO",
          "LUX",
          "MAR",
          "TUR",
          "HUN",
          "ARG",
          "JPN",
          "CZE",
          "IND",
          "KOR",
          "GRC",
          "DZA",
          "SRB",
          "HRV",
          "MEX",
          "EST",
          "IRN",
          "LTU",
          "ZAF",
          "BGR",
          "NZL",
          "COL",
          "UKR",
          "MOZ",
          "SVK",
          "CHL",
          "THA",
          "ISL",
          "SVN",
          "LVA",
          "CYP",
          "TWN",
          "ARE",
          "SAU",
          "PHL",
          "TUN",
          "SGP",
          "IDN",
          "NGA",
          "URY",
          "EGY",
          "LBN",
          "PER",
          "HKG",
          "MYS",
          "ECU",
          "VEN",
          "BLR",
          "CPV",
          "GEO",
          "JOR",
          "KAZ",
          "CRI",
          "GIB",
          "MLT",
          "OMN",
          "AZE",
          "KWT",
          "MAC",
          "QAT",
          "IRQ",
          "DOM",
          "PAK",
          "BIH",
          "ALB",
          "PRI",
          "MDV",
          "BGD",
          "SEN",
          "BOL",
          "CMR",
          "MKD",
          "TJK",
          "GNB",
          "PAN",
          "CUB",
          "LBY",
          "VNM",
          "ARM",
          "JEY",
          "AND",
          "MUS",
          "LKA",
          "CIV",
          "KEN",
          "JAM",
          "FRO",
          "MNE",
          "BHR",
          "CAF",
          "SUR",
          "PRY",
          "BRB",
          "GTM",
          "UZB",
          "MCO",
          "TZA",
          "GAB",
          "GHA",
          "ZWE",
          "ETH",
          "TMP",
          "LIE",
          "GGY",
          "SYR",
          "BEN",
          "GLP",
          "ATA",
          "SLV",
          "MYT",
          "ABW",
          "KHM",
          "LAO",
          "STP",
          "ZMB",
          "MWI",
          "IMN",
          "COM",
          "TGO",
          "UGA",
          "KNA",
          "RWA",
          "SYC",
          "KIR",
          "SDN",
          "NCL",
          "AIA",
          "ASM",
          "FJI",
          "ATF",
          "LCA",
          "GUY",
          "PYF",
          "DMA",
          "SLE",
          "MRT",
          "NIC",
          "BDI",
          "PLW",
          "MLI",
          "CYM",
          "BFA",
          "MDG",
          "MMR",
          "NPL",
          "BHS",
          "UMI",
          "SMR",
          "DJI",
          "BWA",
          "HND",
          "VGB",
          "NAM"
         ],
         "legendgroup": "",
         "name": "",
         "showlegend": true,
         "textinfo": "value+percent+label",
         "textposition": "inside",
         "type": "pie",
         "values": [
          48440,
          12105,
          10376,
          8546,
          7271,
          3752,
          3370,
          2326,
          2212,
          2094,
          2085,
          1717,
          1279,
          1260,
          1017,
          998,
          915,
          668,
          626,
          606,
          497,
          444,
          430,
          426,
          362,
          285,
          256,
          247,
          228,
          213,
          197,
          171,
          150,
          132,
          128,
          103,
          101,
          100,
          84,
          83,
          82,
          81,
          79,
          75,
          74,
          71,
          68,
          67,
          65,
          64,
          58,
          57,
          56,
          55,
          51,
          51,
          50,
          47,
          40,
          39,
          38,
          35,
          34,
          32,
          31,
          31,
          29,
          29,
          28,
          27,
          26,
          25,
          24,
          22,
          20,
          19,
          19,
          18,
          18,
          17,
          17,
          16,
          16,
          15,
          14,
          14,
          14,
          13,
          12,
          12,
          12,
          12,
          11,
          10,
          10,
          10,
          9,
          9,
          9,
          8,
          8,
          8,
          8,
          8,
          7,
          7,
          7,
          6,
          6,
          6,
          5,
          5,
          5,
          5,
          5,
          4,
          4,
          4,
          4,
          4,
          4,
          4,
          4,
          4,
          3,
          3,
          3,
          3,
          3,
          3,
          2,
          2,
          2,
          2,
          2,
          2,
          2,
          2,
          2,
          2,
          2,
          2,
          2,
          2,
          2,
          2,
          2,
          1,
          1,
          1,
          1,
          1,
          1,
          1,
          1,
          1,
          1,
          1,
          1,
          1,
          1,
          1,
          1,
          1,
          1,
          1,
          1,
          1,
          1,
          1,
          1,
          1,
          1,
          1,
          1,
          1,
          1
         ]
        }
       ],
       "layout": {
        "legend": {
         "tracegroupgap": 0
        },
        "template": {
         "data": {
          "bar": [
           {
            "error_x": {
             "color": "rgb(36,36,36)"
            },
            "error_y": {
             "color": "rgb(36,36,36)"
            },
            "marker": {
             "line": {
              "color": "rgb(234,234,242)",
              "width": 0.5
             },
             "pattern": {
              "fillmode": "overlay",
              "size": 10,
              "solidity": 0.2
             }
            },
            "type": "bar"
           }
          ],
          "barpolar": [
           {
            "marker": {
             "line": {
              "color": "rgb(234,234,242)",
              "width": 0.5
             },
             "pattern": {
              "fillmode": "overlay",
              "size": 10,
              "solidity": 0.2
             }
            },
            "type": "barpolar"
           }
          ],
          "carpet": [
           {
            "aaxis": {
             "endlinecolor": "rgb(36,36,36)",
             "gridcolor": "white",
             "linecolor": "white",
             "minorgridcolor": "white",
             "startlinecolor": "rgb(36,36,36)"
            },
            "baxis": {
             "endlinecolor": "rgb(36,36,36)",
             "gridcolor": "white",
             "linecolor": "white",
             "minorgridcolor": "white",
             "startlinecolor": "rgb(36,36,36)"
            },
            "type": "carpet"
           }
          ],
          "choropleth": [
           {
            "colorbar": {
             "outlinewidth": 0,
             "tickcolor": "rgb(36,36,36)",
             "ticklen": 8,
             "ticks": "outside",
             "tickwidth": 2
            },
            "type": "choropleth"
           }
          ],
          "contour": [
           {
            "colorbar": {
             "outlinewidth": 0,
             "tickcolor": "rgb(36,36,36)",
             "ticklen": 8,
             "ticks": "outside",
             "tickwidth": 2
            },
            "colorscale": [
             [
              0,
              "rgb(2,4,25)"
             ],
             [
              0.06274509803921569,
              "rgb(24,15,41)"
             ],
             [
              0.12549019607843137,
              "rgb(47,23,57)"
             ],
             [
              0.18823529411764706,
              "rgb(71,28,72)"
             ],
             [
              0.25098039215686274,
              "rgb(97,30,82)"
             ],
             [
              0.3137254901960784,
              "rgb(123,30,89)"
             ],
             [
              0.3764705882352941,
              "rgb(150,27,91)"
             ],
             [
              0.4392156862745098,
              "rgb(177,22,88)"
             ],
             [
              0.5019607843137255,
              "rgb(203,26,79)"
             ],
             [
              0.5647058823529412,
              "rgb(223,47,67)"
             ],
             [
              0.6274509803921569,
              "rgb(236,76,61)"
             ],
             [
              0.6901960784313725,
              "rgb(242,107,73)"
             ],
             [
              0.7529411764705882,
              "rgb(244,135,95)"
             ],
             [
              0.8156862745098039,
              "rgb(245,162,122)"
             ],
             [
              0.8784313725490196,
              "rgb(246,188,153)"
             ],
             [
              0.9411764705882353,
              "rgb(247,212,187)"
             ],
             [
              1,
              "rgb(250,234,220)"
             ]
            ],
            "type": "contour"
           }
          ],
          "contourcarpet": [
           {
            "colorbar": {
             "outlinewidth": 0,
             "tickcolor": "rgb(36,36,36)",
             "ticklen": 8,
             "ticks": "outside",
             "tickwidth": 2
            },
            "type": "contourcarpet"
           }
          ],
          "heatmap": [
           {
            "colorbar": {
             "outlinewidth": 0,
             "tickcolor": "rgb(36,36,36)",
             "ticklen": 8,
             "ticks": "outside",
             "tickwidth": 2
            },
            "colorscale": [
             [
              0,
              "rgb(2,4,25)"
             ],
             [
              0.06274509803921569,
              "rgb(24,15,41)"
             ],
             [
              0.12549019607843137,
              "rgb(47,23,57)"
             ],
             [
              0.18823529411764706,
              "rgb(71,28,72)"
             ],
             [
              0.25098039215686274,
              "rgb(97,30,82)"
             ],
             [
              0.3137254901960784,
              "rgb(123,30,89)"
             ],
             [
              0.3764705882352941,
              "rgb(150,27,91)"
             ],
             [
              0.4392156862745098,
              "rgb(177,22,88)"
             ],
             [
              0.5019607843137255,
              "rgb(203,26,79)"
             ],
             [
              0.5647058823529412,
              "rgb(223,47,67)"
             ],
             [
              0.6274509803921569,
              "rgb(236,76,61)"
             ],
             [
              0.6901960784313725,
              "rgb(242,107,73)"
             ],
             [
              0.7529411764705882,
              "rgb(244,135,95)"
             ],
             [
              0.8156862745098039,
              "rgb(245,162,122)"
             ],
             [
              0.8784313725490196,
              "rgb(246,188,153)"
             ],
             [
              0.9411764705882353,
              "rgb(247,212,187)"
             ],
             [
              1,
              "rgb(250,234,220)"
             ]
            ],
            "type": "heatmap"
           }
          ],
          "heatmapgl": [
           {
            "colorbar": {
             "outlinewidth": 0,
             "tickcolor": "rgb(36,36,36)",
             "ticklen": 8,
             "ticks": "outside",
             "tickwidth": 2
            },
            "colorscale": [
             [
              0,
              "rgb(2,4,25)"
             ],
             [
              0.06274509803921569,
              "rgb(24,15,41)"
             ],
             [
              0.12549019607843137,
              "rgb(47,23,57)"
             ],
             [
              0.18823529411764706,
              "rgb(71,28,72)"
             ],
             [
              0.25098039215686274,
              "rgb(97,30,82)"
             ],
             [
              0.3137254901960784,
              "rgb(123,30,89)"
             ],
             [
              0.3764705882352941,
              "rgb(150,27,91)"
             ],
             [
              0.4392156862745098,
              "rgb(177,22,88)"
             ],
             [
              0.5019607843137255,
              "rgb(203,26,79)"
             ],
             [
              0.5647058823529412,
              "rgb(223,47,67)"
             ],
             [
              0.6274509803921569,
              "rgb(236,76,61)"
             ],
             [
              0.6901960784313725,
              "rgb(242,107,73)"
             ],
             [
              0.7529411764705882,
              "rgb(244,135,95)"
             ],
             [
              0.8156862745098039,
              "rgb(245,162,122)"
             ],
             [
              0.8784313725490196,
              "rgb(246,188,153)"
             ],
             [
              0.9411764705882353,
              "rgb(247,212,187)"
             ],
             [
              1,
              "rgb(250,234,220)"
             ]
            ],
            "type": "heatmapgl"
           }
          ],
          "histogram": [
           {
            "marker": {
             "pattern": {
              "fillmode": "overlay",
              "size": 10,
              "solidity": 0.2
             }
            },
            "type": "histogram"
           }
          ],
          "histogram2d": [
           {
            "colorbar": {
             "outlinewidth": 0,
             "tickcolor": "rgb(36,36,36)",
             "ticklen": 8,
             "ticks": "outside",
             "tickwidth": 2
            },
            "colorscale": [
             [
              0,
              "rgb(2,4,25)"
             ],
             [
              0.06274509803921569,
              "rgb(24,15,41)"
             ],
             [
              0.12549019607843137,
              "rgb(47,23,57)"
             ],
             [
              0.18823529411764706,
              "rgb(71,28,72)"
             ],
             [
              0.25098039215686274,
              "rgb(97,30,82)"
             ],
             [
              0.3137254901960784,
              "rgb(123,30,89)"
             ],
             [
              0.3764705882352941,
              "rgb(150,27,91)"
             ],
             [
              0.4392156862745098,
              "rgb(177,22,88)"
             ],
             [
              0.5019607843137255,
              "rgb(203,26,79)"
             ],
             [
              0.5647058823529412,
              "rgb(223,47,67)"
             ],
             [
              0.6274509803921569,
              "rgb(236,76,61)"
             ],
             [
              0.6901960784313725,
              "rgb(242,107,73)"
             ],
             [
              0.7529411764705882,
              "rgb(244,135,95)"
             ],
             [
              0.8156862745098039,
              "rgb(245,162,122)"
             ],
             [
              0.8784313725490196,
              "rgb(246,188,153)"
             ],
             [
              0.9411764705882353,
              "rgb(247,212,187)"
             ],
             [
              1,
              "rgb(250,234,220)"
             ]
            ],
            "type": "histogram2d"
           }
          ],
          "histogram2dcontour": [
           {
            "colorbar": {
             "outlinewidth": 0,
             "tickcolor": "rgb(36,36,36)",
             "ticklen": 8,
             "ticks": "outside",
             "tickwidth": 2
            },
            "colorscale": [
             [
              0,
              "rgb(2,4,25)"
             ],
             [
              0.06274509803921569,
              "rgb(24,15,41)"
             ],
             [
              0.12549019607843137,
              "rgb(47,23,57)"
             ],
             [
              0.18823529411764706,
              "rgb(71,28,72)"
             ],
             [
              0.25098039215686274,
              "rgb(97,30,82)"
             ],
             [
              0.3137254901960784,
              "rgb(123,30,89)"
             ],
             [
              0.3764705882352941,
              "rgb(150,27,91)"
             ],
             [
              0.4392156862745098,
              "rgb(177,22,88)"
             ],
             [
              0.5019607843137255,
              "rgb(203,26,79)"
             ],
             [
              0.5647058823529412,
              "rgb(223,47,67)"
             ],
             [
              0.6274509803921569,
              "rgb(236,76,61)"
             ],
             [
              0.6901960784313725,
              "rgb(242,107,73)"
             ],
             [
              0.7529411764705882,
              "rgb(244,135,95)"
             ],
             [
              0.8156862745098039,
              "rgb(245,162,122)"
             ],
             [
              0.8784313725490196,
              "rgb(246,188,153)"
             ],
             [
              0.9411764705882353,
              "rgb(247,212,187)"
             ],
             [
              1,
              "rgb(250,234,220)"
             ]
            ],
            "type": "histogram2dcontour"
           }
          ],
          "mesh3d": [
           {
            "colorbar": {
             "outlinewidth": 0,
             "tickcolor": "rgb(36,36,36)",
             "ticklen": 8,
             "ticks": "outside",
             "tickwidth": 2
            },
            "type": "mesh3d"
           }
          ],
          "parcoords": [
           {
            "line": {
             "colorbar": {
              "outlinewidth": 0,
              "tickcolor": "rgb(36,36,36)",
              "ticklen": 8,
              "ticks": "outside",
              "tickwidth": 2
             }
            },
            "type": "parcoords"
           }
          ],
          "pie": [
           {
            "automargin": true,
            "type": "pie"
           }
          ],
          "scatter": [
           {
            "fillpattern": {
             "fillmode": "overlay",
             "size": 10,
             "solidity": 0.2
            },
            "type": "scatter"
           }
          ],
          "scatter3d": [
           {
            "line": {
             "colorbar": {
              "outlinewidth": 0,
              "tickcolor": "rgb(36,36,36)",
              "ticklen": 8,
              "ticks": "outside",
              "tickwidth": 2
             }
            },
            "marker": {
             "colorbar": {
              "outlinewidth": 0,
              "tickcolor": "rgb(36,36,36)",
              "ticklen": 8,
              "ticks": "outside",
              "tickwidth": 2
             }
            },
            "type": "scatter3d"
           }
          ],
          "scattercarpet": [
           {
            "marker": {
             "colorbar": {
              "outlinewidth": 0,
              "tickcolor": "rgb(36,36,36)",
              "ticklen": 8,
              "ticks": "outside",
              "tickwidth": 2
             }
            },
            "type": "scattercarpet"
           }
          ],
          "scattergeo": [
           {
            "marker": {
             "colorbar": {
              "outlinewidth": 0,
              "tickcolor": "rgb(36,36,36)",
              "ticklen": 8,
              "ticks": "outside",
              "tickwidth": 2
             }
            },
            "type": "scattergeo"
           }
          ],
          "scattergl": [
           {
            "marker": {
             "colorbar": {
              "outlinewidth": 0,
              "tickcolor": "rgb(36,36,36)",
              "ticklen": 8,
              "ticks": "outside",
              "tickwidth": 2
             }
            },
            "type": "scattergl"
           }
          ],
          "scattermapbox": [
           {
            "marker": {
             "colorbar": {
              "outlinewidth": 0,
              "tickcolor": "rgb(36,36,36)",
              "ticklen": 8,
              "ticks": "outside",
              "tickwidth": 2
             }
            },
            "type": "scattermapbox"
           }
          ],
          "scatterpolar": [
           {
            "marker": {
             "colorbar": {
              "outlinewidth": 0,
              "tickcolor": "rgb(36,36,36)",
              "ticklen": 8,
              "ticks": "outside",
              "tickwidth": 2
             }
            },
            "type": "scatterpolar"
           }
          ],
          "scatterpolargl": [
           {
            "marker": {
             "colorbar": {
              "outlinewidth": 0,
              "tickcolor": "rgb(36,36,36)",
              "ticklen": 8,
              "ticks": "outside",
              "tickwidth": 2
             }
            },
            "type": "scatterpolargl"
           }
          ],
          "scatterternary": [
           {
            "marker": {
             "colorbar": {
              "outlinewidth": 0,
              "tickcolor": "rgb(36,36,36)",
              "ticklen": 8,
              "ticks": "outside",
              "tickwidth": 2
             }
            },
            "type": "scatterternary"
           }
          ],
          "surface": [
           {
            "colorbar": {
             "outlinewidth": 0,
             "tickcolor": "rgb(36,36,36)",
             "ticklen": 8,
             "ticks": "outside",
             "tickwidth": 2
            },
            "colorscale": [
             [
              0,
              "rgb(2,4,25)"
             ],
             [
              0.06274509803921569,
              "rgb(24,15,41)"
             ],
             [
              0.12549019607843137,
              "rgb(47,23,57)"
             ],
             [
              0.18823529411764706,
              "rgb(71,28,72)"
             ],
             [
              0.25098039215686274,
              "rgb(97,30,82)"
             ],
             [
              0.3137254901960784,
              "rgb(123,30,89)"
             ],
             [
              0.3764705882352941,
              "rgb(150,27,91)"
             ],
             [
              0.4392156862745098,
              "rgb(177,22,88)"
             ],
             [
              0.5019607843137255,
              "rgb(203,26,79)"
             ],
             [
              0.5647058823529412,
              "rgb(223,47,67)"
             ],
             [
              0.6274509803921569,
              "rgb(236,76,61)"
             ],
             [
              0.6901960784313725,
              "rgb(242,107,73)"
             ],
             [
              0.7529411764705882,
              "rgb(244,135,95)"
             ],
             [
              0.8156862745098039,
              "rgb(245,162,122)"
             ],
             [
              0.8784313725490196,
              "rgb(246,188,153)"
             ],
             [
              0.9411764705882353,
              "rgb(247,212,187)"
             ],
             [
              1,
              "rgb(250,234,220)"
             ]
            ],
            "type": "surface"
           }
          ],
          "table": [
           {
            "cells": {
             "fill": {
              "color": "rgb(231,231,240)"
             },
             "line": {
              "color": "white"
             }
            },
            "header": {
             "fill": {
              "color": "rgb(183,183,191)"
             },
             "line": {
              "color": "white"
             }
            },
            "type": "table"
           }
          ]
         },
         "layout": {
          "annotationdefaults": {
           "arrowcolor": "rgb(67,103,167)"
          },
          "autotypenumbers": "strict",
          "coloraxis": {
           "colorbar": {
            "outlinewidth": 0,
            "tickcolor": "rgb(36,36,36)",
            "ticklen": 8,
            "ticks": "outside",
            "tickwidth": 2
           }
          },
          "colorscale": {
           "sequential": [
            [
             0,
             "rgb(2,4,25)"
            ],
            [
             0.06274509803921569,
             "rgb(24,15,41)"
            ],
            [
             0.12549019607843137,
             "rgb(47,23,57)"
            ],
            [
             0.18823529411764706,
             "rgb(71,28,72)"
            ],
            [
             0.25098039215686274,
             "rgb(97,30,82)"
            ],
            [
             0.3137254901960784,
             "rgb(123,30,89)"
            ],
            [
             0.3764705882352941,
             "rgb(150,27,91)"
            ],
            [
             0.4392156862745098,
             "rgb(177,22,88)"
            ],
            [
             0.5019607843137255,
             "rgb(203,26,79)"
            ],
            [
             0.5647058823529412,
             "rgb(223,47,67)"
            ],
            [
             0.6274509803921569,
             "rgb(236,76,61)"
            ],
            [
             0.6901960784313725,
             "rgb(242,107,73)"
            ],
            [
             0.7529411764705882,
             "rgb(244,135,95)"
            ],
            [
             0.8156862745098039,
             "rgb(245,162,122)"
            ],
            [
             0.8784313725490196,
             "rgb(246,188,153)"
            ],
            [
             0.9411764705882353,
             "rgb(247,212,187)"
            ],
            [
             1,
             "rgb(250,234,220)"
            ]
           ],
           "sequentialminus": [
            [
             0,
             "rgb(2,4,25)"
            ],
            [
             0.06274509803921569,
             "rgb(24,15,41)"
            ],
            [
             0.12549019607843137,
             "rgb(47,23,57)"
            ],
            [
             0.18823529411764706,
             "rgb(71,28,72)"
            ],
            [
             0.25098039215686274,
             "rgb(97,30,82)"
            ],
            [
             0.3137254901960784,
             "rgb(123,30,89)"
            ],
            [
             0.3764705882352941,
             "rgb(150,27,91)"
            ],
            [
             0.4392156862745098,
             "rgb(177,22,88)"
            ],
            [
             0.5019607843137255,
             "rgb(203,26,79)"
            ],
            [
             0.5647058823529412,
             "rgb(223,47,67)"
            ],
            [
             0.6274509803921569,
             "rgb(236,76,61)"
            ],
            [
             0.6901960784313725,
             "rgb(242,107,73)"
            ],
            [
             0.7529411764705882,
             "rgb(244,135,95)"
            ],
            [
             0.8156862745098039,
             "rgb(245,162,122)"
            ],
            [
             0.8784313725490196,
             "rgb(246,188,153)"
            ],
            [
             0.9411764705882353,
             "rgb(247,212,187)"
            ],
            [
             1,
             "rgb(250,234,220)"
            ]
           ]
          },
          "colorway": [
           "rgb(76,114,176)",
           "rgb(221,132,82)",
           "rgb(85,168,104)",
           "rgb(196,78,82)",
           "rgb(129,114,179)",
           "rgb(147,120,96)",
           "rgb(218,139,195)",
           "rgb(140,140,140)",
           "rgb(204,185,116)",
           "rgb(100,181,205)"
          ],
          "font": {
           "color": "rgb(36,36,36)"
          },
          "geo": {
           "bgcolor": "white",
           "lakecolor": "white",
           "landcolor": "rgb(234,234,242)",
           "showlakes": true,
           "showland": true,
           "subunitcolor": "white"
          },
          "hoverlabel": {
           "align": "left"
          },
          "hovermode": "closest",
          "paper_bgcolor": "white",
          "plot_bgcolor": "rgb(234,234,242)",
          "polar": {
           "angularaxis": {
            "gridcolor": "white",
            "linecolor": "white",
            "showgrid": true,
            "ticks": ""
           },
           "bgcolor": "rgb(234,234,242)",
           "radialaxis": {
            "gridcolor": "white",
            "linecolor": "white",
            "showgrid": true,
            "ticks": ""
           }
          },
          "scene": {
           "xaxis": {
            "backgroundcolor": "rgb(234,234,242)",
            "gridcolor": "white",
            "gridwidth": 2,
            "linecolor": "white",
            "showbackground": true,
            "showgrid": true,
            "ticks": "",
            "zerolinecolor": "white"
           },
           "yaxis": {
            "backgroundcolor": "rgb(234,234,242)",
            "gridcolor": "white",
            "gridwidth": 2,
            "linecolor": "white",
            "showbackground": true,
            "showgrid": true,
            "ticks": "",
            "zerolinecolor": "white"
           },
           "zaxis": {
            "backgroundcolor": "rgb(234,234,242)",
            "gridcolor": "white",
            "gridwidth": 2,
            "linecolor": "white",
            "showbackground": true,
            "showgrid": true,
            "ticks": "",
            "zerolinecolor": "white"
           }
          },
          "shapedefaults": {
           "fillcolor": "rgb(67,103,167)",
           "line": {
            "width": 0
           },
           "opacity": 0.5
          },
          "ternary": {
           "aaxis": {
            "gridcolor": "white",
            "linecolor": "white",
            "showgrid": true,
            "ticks": ""
           },
           "baxis": {
            "gridcolor": "white",
            "linecolor": "white",
            "showgrid": true,
            "ticks": ""
           },
           "bgcolor": "rgb(234,234,242)",
           "caxis": {
            "gridcolor": "white",
            "linecolor": "white",
            "showgrid": true,
            "ticks": ""
           }
          },
          "xaxis": {
           "automargin": true,
           "gridcolor": "white",
           "linecolor": "white",
           "showgrid": true,
           "ticks": "",
           "title": {
            "standoff": 15
           },
           "zerolinecolor": "white"
          },
          "yaxis": {
           "automargin": true,
           "gridcolor": "white",
           "linecolor": "white",
           "showgrid": true,
           "ticks": "",
           "title": {
            "standoff": 15
           },
           "zerolinecolor": "white"
          }
         }
        },
        "title": {
         "text": "Home Country of Guests"
        }
       }
      },
      "text/html": [
       "<div>                            <div id=\"b11beb6f-d1ef-4a9d-bbc5-2bd4a2197ece\" class=\"plotly-graph-div\" style=\"height:525px; width:100%;\"></div>            <script type=\"text/javascript\">                require([\"plotly\"], function(Plotly) {                    window.PLOTLYENV=window.PLOTLYENV || {};                                    if (document.getElementById(\"b11beb6f-d1ef-4a9d-bbc5-2bd4a2197ece\")) {                    Plotly.newPlot(                        \"b11beb6f-d1ef-4a9d-bbc5-2bd4a2197ece\",                        [{\"domain\":{\"x\":[0.0,1.0],\"y\":[0.0,1.0]},\"hovertemplate\":\"label=%{label}<br>value=%{value}<extra></extra>\",\"labels\":[\"PRT\",\"GBR\",\"FRA\",\"ESP\",\"DEU\",\"ITA\",\"IRL\",\"BEL\",\"BRA\",\"NLD\",\"USA\",\"CHE\",\"CN\",\"AUT\",\"SWE\",\"CHN\",\"POL\",\"ISR\",\"RUS\",\"NOR\",\"ROU\",\"FIN\",\"DNK\",\"AUS\",\"AGO\",\"LUX\",\"MAR\",\"TUR\",\"HUN\",\"ARG\",\"JPN\",\"CZE\",\"IND\",\"KOR\",\"GRC\",\"DZA\",\"SRB\",\"HRV\",\"MEX\",\"EST\",\"IRN\",\"LTU\",\"ZAF\",\"BGR\",\"NZL\",\"COL\",\"UKR\",\"MOZ\",\"SVK\",\"CHL\",\"THA\",\"ISL\",\"SVN\",\"LVA\",\"CYP\",\"TWN\",\"ARE\",\"SAU\",\"PHL\",\"TUN\",\"SGP\",\"IDN\",\"NGA\",\"URY\",\"EGY\",\"LBN\",\"PER\",\"HKG\",\"MYS\",\"ECU\",\"VEN\",\"BLR\",\"CPV\",\"GEO\",\"JOR\",\"KAZ\",\"CRI\",\"GIB\",\"MLT\",\"OMN\",\"AZE\",\"KWT\",\"MAC\",\"QAT\",\"IRQ\",\"DOM\",\"PAK\",\"BIH\",\"ALB\",\"PRI\",\"MDV\",\"BGD\",\"SEN\",\"BOL\",\"CMR\",\"MKD\",\"TJK\",\"GNB\",\"PAN\",\"CUB\",\"LBY\",\"VNM\",\"ARM\",\"JEY\",\"AND\",\"MUS\",\"LKA\",\"CIV\",\"KEN\",\"JAM\",\"FRO\",\"MNE\",\"BHR\",\"CAF\",\"SUR\",\"PRY\",\"BRB\",\"GTM\",\"UZB\",\"MCO\",\"TZA\",\"GAB\",\"GHA\",\"ZWE\",\"ETH\",\"TMP\",\"LIE\",\"GGY\",\"SYR\",\"BEN\",\"GLP\",\"ATA\",\"SLV\",\"MYT\",\"ABW\",\"KHM\",\"LAO\",\"STP\",\"ZMB\",\"MWI\",\"IMN\",\"COM\",\"TGO\",\"UGA\",\"KNA\",\"RWA\",\"SYC\",\"KIR\",\"SDN\",\"NCL\",\"AIA\",\"ASM\",\"FJI\",\"ATF\",\"LCA\",\"GUY\",\"PYF\",\"DMA\",\"SLE\",\"MRT\",\"NIC\",\"BDI\",\"PLW\",\"MLI\",\"CYM\",\"BFA\",\"MDG\",\"MMR\",\"NPL\",\"BHS\",\"UMI\",\"SMR\",\"DJI\",\"BWA\",\"HND\",\"VGB\",\"NAM\"],\"legendgroup\":\"\",\"name\":\"\",\"showlegend\":true,\"values\":[48440,12105,10376,8546,7271,3752,3370,2326,2212,2094,2085,1717,1279,1260,1017,998,915,668,626,606,497,444,430,426,362,285,256,247,228,213,197,171,150,132,128,103,101,100,84,83,82,81,79,75,74,71,68,67,65,64,58,57,56,55,51,51,50,47,40,39,38,35,34,32,31,31,29,29,28,27,26,25,24,22,20,19,19,18,18,17,17,16,16,15,14,14,14,13,12,12,12,12,11,10,10,10,9,9,9,8,8,8,8,8,7,7,7,6,6,6,5,5,5,5,5,4,4,4,4,4,4,4,4,4,3,3,3,3,3,3,2,2,2,2,2,2,2,2,2,2,2,2,2,2,2,2,2,1,1,1,1,1,1,1,1,1,1,1,1,1,1,1,1,1,1,1,1,1,1,1,1,1,1,1,1,1,1],\"type\":\"pie\",\"textinfo\":\"value+percent+label\",\"textposition\":\"inside\"}],                        {\"template\":{\"data\":{\"barpolar\":[{\"marker\":{\"line\":{\"color\":\"rgb(234,234,242)\",\"width\":0.5},\"pattern\":{\"fillmode\":\"overlay\",\"size\":10,\"solidity\":0.2}},\"type\":\"barpolar\"}],\"bar\":[{\"error_x\":{\"color\":\"rgb(36,36,36)\"},\"error_y\":{\"color\":\"rgb(36,36,36)\"},\"marker\":{\"line\":{\"color\":\"rgb(234,234,242)\",\"width\":0.5},\"pattern\":{\"fillmode\":\"overlay\",\"size\":10,\"solidity\":0.2}},\"type\":\"bar\"}],\"carpet\":[{\"aaxis\":{\"endlinecolor\":\"rgb(36,36,36)\",\"gridcolor\":\"white\",\"linecolor\":\"white\",\"minorgridcolor\":\"white\",\"startlinecolor\":\"rgb(36,36,36)\"},\"baxis\":{\"endlinecolor\":\"rgb(36,36,36)\",\"gridcolor\":\"white\",\"linecolor\":\"white\",\"minorgridcolor\":\"white\",\"startlinecolor\":\"rgb(36,36,36)\"},\"type\":\"carpet\"}],\"choropleth\":[{\"colorbar\":{\"outlinewidth\":0,\"tickcolor\":\"rgb(36,36,36)\",\"ticklen\":8,\"ticks\":\"outside\",\"tickwidth\":2},\"type\":\"choropleth\"}],\"contourcarpet\":[{\"colorbar\":{\"outlinewidth\":0,\"tickcolor\":\"rgb(36,36,36)\",\"ticklen\":8,\"ticks\":\"outside\",\"tickwidth\":2},\"type\":\"contourcarpet\"}],\"contour\":[{\"colorbar\":{\"outlinewidth\":0,\"tickcolor\":\"rgb(36,36,36)\",\"ticklen\":8,\"ticks\":\"outside\",\"tickwidth\":2},\"colorscale\":[[0.0,\"rgb(2,4,25)\"],[0.06274509803921569,\"rgb(24,15,41)\"],[0.12549019607843137,\"rgb(47,23,57)\"],[0.18823529411764706,\"rgb(71,28,72)\"],[0.25098039215686274,\"rgb(97,30,82)\"],[0.3137254901960784,\"rgb(123,30,89)\"],[0.3764705882352941,\"rgb(150,27,91)\"],[0.4392156862745098,\"rgb(177,22,88)\"],[0.5019607843137255,\"rgb(203,26,79)\"],[0.5647058823529412,\"rgb(223,47,67)\"],[0.6274509803921569,\"rgb(236,76,61)\"],[0.6901960784313725,\"rgb(242,107,73)\"],[0.7529411764705882,\"rgb(244,135,95)\"],[0.8156862745098039,\"rgb(245,162,122)\"],[0.8784313725490196,\"rgb(246,188,153)\"],[0.9411764705882353,\"rgb(247,212,187)\"],[1.0,\"rgb(250,234,220)\"]],\"type\":\"contour\"}],\"heatmapgl\":[{\"colorbar\":{\"outlinewidth\":0,\"tickcolor\":\"rgb(36,36,36)\",\"ticklen\":8,\"ticks\":\"outside\",\"tickwidth\":2},\"colorscale\":[[0.0,\"rgb(2,4,25)\"],[0.06274509803921569,\"rgb(24,15,41)\"],[0.12549019607843137,\"rgb(47,23,57)\"],[0.18823529411764706,\"rgb(71,28,72)\"],[0.25098039215686274,\"rgb(97,30,82)\"],[0.3137254901960784,\"rgb(123,30,89)\"],[0.3764705882352941,\"rgb(150,27,91)\"],[0.4392156862745098,\"rgb(177,22,88)\"],[0.5019607843137255,\"rgb(203,26,79)\"],[0.5647058823529412,\"rgb(223,47,67)\"],[0.6274509803921569,\"rgb(236,76,61)\"],[0.6901960784313725,\"rgb(242,107,73)\"],[0.7529411764705882,\"rgb(244,135,95)\"],[0.8156862745098039,\"rgb(245,162,122)\"],[0.8784313725490196,\"rgb(246,188,153)\"],[0.9411764705882353,\"rgb(247,212,187)\"],[1.0,\"rgb(250,234,220)\"]],\"type\":\"heatmapgl\"}],\"heatmap\":[{\"colorbar\":{\"outlinewidth\":0,\"tickcolor\":\"rgb(36,36,36)\",\"ticklen\":8,\"ticks\":\"outside\",\"tickwidth\":2},\"colorscale\":[[0.0,\"rgb(2,4,25)\"],[0.06274509803921569,\"rgb(24,15,41)\"],[0.12549019607843137,\"rgb(47,23,57)\"],[0.18823529411764706,\"rgb(71,28,72)\"],[0.25098039215686274,\"rgb(97,30,82)\"],[0.3137254901960784,\"rgb(123,30,89)\"],[0.3764705882352941,\"rgb(150,27,91)\"],[0.4392156862745098,\"rgb(177,22,88)\"],[0.5019607843137255,\"rgb(203,26,79)\"],[0.5647058823529412,\"rgb(223,47,67)\"],[0.6274509803921569,\"rgb(236,76,61)\"],[0.6901960784313725,\"rgb(242,107,73)\"],[0.7529411764705882,\"rgb(244,135,95)\"],[0.8156862745098039,\"rgb(245,162,122)\"],[0.8784313725490196,\"rgb(246,188,153)\"],[0.9411764705882353,\"rgb(247,212,187)\"],[1.0,\"rgb(250,234,220)\"]],\"type\":\"heatmap\"}],\"histogram2dcontour\":[{\"colorbar\":{\"outlinewidth\":0,\"tickcolor\":\"rgb(36,36,36)\",\"ticklen\":8,\"ticks\":\"outside\",\"tickwidth\":2},\"colorscale\":[[0.0,\"rgb(2,4,25)\"],[0.06274509803921569,\"rgb(24,15,41)\"],[0.12549019607843137,\"rgb(47,23,57)\"],[0.18823529411764706,\"rgb(71,28,72)\"],[0.25098039215686274,\"rgb(97,30,82)\"],[0.3137254901960784,\"rgb(123,30,89)\"],[0.3764705882352941,\"rgb(150,27,91)\"],[0.4392156862745098,\"rgb(177,22,88)\"],[0.5019607843137255,\"rgb(203,26,79)\"],[0.5647058823529412,\"rgb(223,47,67)\"],[0.6274509803921569,\"rgb(236,76,61)\"],[0.6901960784313725,\"rgb(242,107,73)\"],[0.7529411764705882,\"rgb(244,135,95)\"],[0.8156862745098039,\"rgb(245,162,122)\"],[0.8784313725490196,\"rgb(246,188,153)\"],[0.9411764705882353,\"rgb(247,212,187)\"],[1.0,\"rgb(250,234,220)\"]],\"type\":\"histogram2dcontour\"}],\"histogram2d\":[{\"colorbar\":{\"outlinewidth\":0,\"tickcolor\":\"rgb(36,36,36)\",\"ticklen\":8,\"ticks\":\"outside\",\"tickwidth\":2},\"colorscale\":[[0.0,\"rgb(2,4,25)\"],[0.06274509803921569,\"rgb(24,15,41)\"],[0.12549019607843137,\"rgb(47,23,57)\"],[0.18823529411764706,\"rgb(71,28,72)\"],[0.25098039215686274,\"rgb(97,30,82)\"],[0.3137254901960784,\"rgb(123,30,89)\"],[0.3764705882352941,\"rgb(150,27,91)\"],[0.4392156862745098,\"rgb(177,22,88)\"],[0.5019607843137255,\"rgb(203,26,79)\"],[0.5647058823529412,\"rgb(223,47,67)\"],[0.6274509803921569,\"rgb(236,76,61)\"],[0.6901960784313725,\"rgb(242,107,73)\"],[0.7529411764705882,\"rgb(244,135,95)\"],[0.8156862745098039,\"rgb(245,162,122)\"],[0.8784313725490196,\"rgb(246,188,153)\"],[0.9411764705882353,\"rgb(247,212,187)\"],[1.0,\"rgb(250,234,220)\"]],\"type\":\"histogram2d\"}],\"histogram\":[{\"marker\":{\"pattern\":{\"fillmode\":\"overlay\",\"size\":10,\"solidity\":0.2}},\"type\":\"histogram\"}],\"mesh3d\":[{\"colorbar\":{\"outlinewidth\":0,\"tickcolor\":\"rgb(36,36,36)\",\"ticklen\":8,\"ticks\":\"outside\",\"tickwidth\":2},\"type\":\"mesh3d\"}],\"parcoords\":[{\"line\":{\"colorbar\":{\"outlinewidth\":0,\"tickcolor\":\"rgb(36,36,36)\",\"ticklen\":8,\"ticks\":\"outside\",\"tickwidth\":2}},\"type\":\"parcoords\"}],\"pie\":[{\"automargin\":true,\"type\":\"pie\"}],\"scatter3d\":[{\"line\":{\"colorbar\":{\"outlinewidth\":0,\"tickcolor\":\"rgb(36,36,36)\",\"ticklen\":8,\"ticks\":\"outside\",\"tickwidth\":2}},\"marker\":{\"colorbar\":{\"outlinewidth\":0,\"tickcolor\":\"rgb(36,36,36)\",\"ticklen\":8,\"ticks\":\"outside\",\"tickwidth\":2}},\"type\":\"scatter3d\"}],\"scattercarpet\":[{\"marker\":{\"colorbar\":{\"outlinewidth\":0,\"tickcolor\":\"rgb(36,36,36)\",\"ticklen\":8,\"ticks\":\"outside\",\"tickwidth\":2}},\"type\":\"scattercarpet\"}],\"scattergeo\":[{\"marker\":{\"colorbar\":{\"outlinewidth\":0,\"tickcolor\":\"rgb(36,36,36)\",\"ticklen\":8,\"ticks\":\"outside\",\"tickwidth\":2}},\"type\":\"scattergeo\"}],\"scattergl\":[{\"marker\":{\"colorbar\":{\"outlinewidth\":0,\"tickcolor\":\"rgb(36,36,36)\",\"ticklen\":8,\"ticks\":\"outside\",\"tickwidth\":2}},\"type\":\"scattergl\"}],\"scattermapbox\":[{\"marker\":{\"colorbar\":{\"outlinewidth\":0,\"tickcolor\":\"rgb(36,36,36)\",\"ticklen\":8,\"ticks\":\"outside\",\"tickwidth\":2}},\"type\":\"scattermapbox\"}],\"scatterpolargl\":[{\"marker\":{\"colorbar\":{\"outlinewidth\":0,\"tickcolor\":\"rgb(36,36,36)\",\"ticklen\":8,\"ticks\":\"outside\",\"tickwidth\":2}},\"type\":\"scatterpolargl\"}],\"scatterpolar\":[{\"marker\":{\"colorbar\":{\"outlinewidth\":0,\"tickcolor\":\"rgb(36,36,36)\",\"ticklen\":8,\"ticks\":\"outside\",\"tickwidth\":2}},\"type\":\"scatterpolar\"}],\"scatter\":[{\"fillpattern\":{\"fillmode\":\"overlay\",\"size\":10,\"solidity\":0.2},\"type\":\"scatter\"}],\"scatterternary\":[{\"marker\":{\"colorbar\":{\"outlinewidth\":0,\"tickcolor\":\"rgb(36,36,36)\",\"ticklen\":8,\"ticks\":\"outside\",\"tickwidth\":2}},\"type\":\"scatterternary\"}],\"surface\":[{\"colorbar\":{\"outlinewidth\":0,\"tickcolor\":\"rgb(36,36,36)\",\"ticklen\":8,\"ticks\":\"outside\",\"tickwidth\":2},\"colorscale\":[[0.0,\"rgb(2,4,25)\"],[0.06274509803921569,\"rgb(24,15,41)\"],[0.12549019607843137,\"rgb(47,23,57)\"],[0.18823529411764706,\"rgb(71,28,72)\"],[0.25098039215686274,\"rgb(97,30,82)\"],[0.3137254901960784,\"rgb(123,30,89)\"],[0.3764705882352941,\"rgb(150,27,91)\"],[0.4392156862745098,\"rgb(177,22,88)\"],[0.5019607843137255,\"rgb(203,26,79)\"],[0.5647058823529412,\"rgb(223,47,67)\"],[0.6274509803921569,\"rgb(236,76,61)\"],[0.6901960784313725,\"rgb(242,107,73)\"],[0.7529411764705882,\"rgb(244,135,95)\"],[0.8156862745098039,\"rgb(245,162,122)\"],[0.8784313725490196,\"rgb(246,188,153)\"],[0.9411764705882353,\"rgb(247,212,187)\"],[1.0,\"rgb(250,234,220)\"]],\"type\":\"surface\"}],\"table\":[{\"cells\":{\"fill\":{\"color\":\"rgb(231,231,240)\"},\"line\":{\"color\":\"white\"}},\"header\":{\"fill\":{\"color\":\"rgb(183,183,191)\"},\"line\":{\"color\":\"white\"}},\"type\":\"table\"}]},\"layout\":{\"annotationdefaults\":{\"arrowcolor\":\"rgb(67,103,167)\"},\"autotypenumbers\":\"strict\",\"coloraxis\":{\"colorbar\":{\"outlinewidth\":0,\"tickcolor\":\"rgb(36,36,36)\",\"ticklen\":8,\"ticks\":\"outside\",\"tickwidth\":2}},\"colorscale\":{\"sequential\":[[0.0,\"rgb(2,4,25)\"],[0.06274509803921569,\"rgb(24,15,41)\"],[0.12549019607843137,\"rgb(47,23,57)\"],[0.18823529411764706,\"rgb(71,28,72)\"],[0.25098039215686274,\"rgb(97,30,82)\"],[0.3137254901960784,\"rgb(123,30,89)\"],[0.3764705882352941,\"rgb(150,27,91)\"],[0.4392156862745098,\"rgb(177,22,88)\"],[0.5019607843137255,\"rgb(203,26,79)\"],[0.5647058823529412,\"rgb(223,47,67)\"],[0.6274509803921569,\"rgb(236,76,61)\"],[0.6901960784313725,\"rgb(242,107,73)\"],[0.7529411764705882,\"rgb(244,135,95)\"],[0.8156862745098039,\"rgb(245,162,122)\"],[0.8784313725490196,\"rgb(246,188,153)\"],[0.9411764705882353,\"rgb(247,212,187)\"],[1.0,\"rgb(250,234,220)\"]],\"sequentialminus\":[[0.0,\"rgb(2,4,25)\"],[0.06274509803921569,\"rgb(24,15,41)\"],[0.12549019607843137,\"rgb(47,23,57)\"],[0.18823529411764706,\"rgb(71,28,72)\"],[0.25098039215686274,\"rgb(97,30,82)\"],[0.3137254901960784,\"rgb(123,30,89)\"],[0.3764705882352941,\"rgb(150,27,91)\"],[0.4392156862745098,\"rgb(177,22,88)\"],[0.5019607843137255,\"rgb(203,26,79)\"],[0.5647058823529412,\"rgb(223,47,67)\"],[0.6274509803921569,\"rgb(236,76,61)\"],[0.6901960784313725,\"rgb(242,107,73)\"],[0.7529411764705882,\"rgb(244,135,95)\"],[0.8156862745098039,\"rgb(245,162,122)\"],[0.8784313725490196,\"rgb(246,188,153)\"],[0.9411764705882353,\"rgb(247,212,187)\"],[1.0,\"rgb(250,234,220)\"]]},\"colorway\":[\"rgb(76,114,176)\",\"rgb(221,132,82)\",\"rgb(85,168,104)\",\"rgb(196,78,82)\",\"rgb(129,114,179)\",\"rgb(147,120,96)\",\"rgb(218,139,195)\",\"rgb(140,140,140)\",\"rgb(204,185,116)\",\"rgb(100,181,205)\"],\"font\":{\"color\":\"rgb(36,36,36)\"},\"geo\":{\"bgcolor\":\"white\",\"lakecolor\":\"white\",\"landcolor\":\"rgb(234,234,242)\",\"showlakes\":true,\"showland\":true,\"subunitcolor\":\"white\"},\"hoverlabel\":{\"align\":\"left\"},\"hovermode\":\"closest\",\"paper_bgcolor\":\"white\",\"plot_bgcolor\":\"rgb(234,234,242)\",\"polar\":{\"angularaxis\":{\"gridcolor\":\"white\",\"linecolor\":\"white\",\"showgrid\":true,\"ticks\":\"\"},\"bgcolor\":\"rgb(234,234,242)\",\"radialaxis\":{\"gridcolor\":\"white\",\"linecolor\":\"white\",\"showgrid\":true,\"ticks\":\"\"}},\"scene\":{\"xaxis\":{\"backgroundcolor\":\"rgb(234,234,242)\",\"gridcolor\":\"white\",\"gridwidth\":2,\"linecolor\":\"white\",\"showbackground\":true,\"showgrid\":true,\"ticks\":\"\",\"zerolinecolor\":\"white\"},\"yaxis\":{\"backgroundcolor\":\"rgb(234,234,242)\",\"gridcolor\":\"white\",\"gridwidth\":2,\"linecolor\":\"white\",\"showbackground\":true,\"showgrid\":true,\"ticks\":\"\",\"zerolinecolor\":\"white\"},\"zaxis\":{\"backgroundcolor\":\"rgb(234,234,242)\",\"gridcolor\":\"white\",\"gridwidth\":2,\"linecolor\":\"white\",\"showbackground\":true,\"showgrid\":true,\"ticks\":\"\",\"zerolinecolor\":\"white\"}},\"shapedefaults\":{\"fillcolor\":\"rgb(67,103,167)\",\"line\":{\"width\":0},\"opacity\":0.5},\"ternary\":{\"aaxis\":{\"gridcolor\":\"white\",\"linecolor\":\"white\",\"showgrid\":true,\"ticks\":\"\"},\"baxis\":{\"gridcolor\":\"white\",\"linecolor\":\"white\",\"showgrid\":true,\"ticks\":\"\"},\"bgcolor\":\"rgb(234,234,242)\",\"caxis\":{\"gridcolor\":\"white\",\"linecolor\":\"white\",\"showgrid\":true,\"ticks\":\"\"}},\"xaxis\":{\"automargin\":true,\"gridcolor\":\"white\",\"linecolor\":\"white\",\"showgrid\":true,\"ticks\":\"\",\"title\":{\"standoff\":15},\"zerolinecolor\":\"white\"},\"yaxis\":{\"automargin\":true,\"gridcolor\":\"white\",\"linecolor\":\"white\",\"showgrid\":true,\"ticks\":\"\",\"title\":{\"standoff\":15},\"zerolinecolor\":\"white\"}}},\"legend\":{\"tracegroupgap\":0},\"title\":{\"text\":\"Home Country of Guests\"}},                        {\"responsive\": true}                    ).then(function(){\n",
       "                            \n",
       "var gd = document.getElementById('b11beb6f-d1ef-4a9d-bbc5-2bd4a2197ece');\n",
       "var x = new MutationObserver(function (mutations, observer) {{\n",
       "        var display = window.getComputedStyle(gd).display;\n",
       "        if (!display || display === 'none') {{\n",
       "            console.log([gd, 'removed!']);\n",
       "            Plotly.purge(gd);\n",
       "            observer.disconnect();\n",
       "        }}\n",
       "}});\n",
       "\n",
       "// Listen for the removal of the full notebook cells\n",
       "var notebookContainer = gd.closest('#notebook-container');\n",
       "if (notebookContainer) {{\n",
       "    x.observe(notebookContainer, {childList: true});\n",
       "}}\n",
       "\n",
       "// Listen for the clearing of the current output cell\n",
       "var outputEl = gd.closest('.output');\n",
       "if (outputEl) {{\n",
       "    x.observe(outputEl, {childList: true});\n",
       "}}\n",
       "\n",
       "                        })                };                });            </script>        </div>"
      ]
     },
     "metadata": {},
     "output_type": "display_data"
    }
   ],
   "source": [
    "#visualizeusing pie chart\n",
    "fig = px.pie(country_labels, values = country_values, names = country_labels, title = \"Home Country of Guests\", template=\"seaborn\")\n",
    "fig.update_traces(textposition = \"inside\", textinfo = \"value + percent + label\")\n",
    "fig.show();"
   ]
  },
  {
   "cell_type": "markdown",
   "metadata": {},
   "source": [
    "The top five home country of guests are Portugal, United Kingdom, France, Spain, and Germany, with Portugal accounting for 40.9% of the total guests."
   ]
  },
  {
   "cell_type": "code",
   "execution_count": null,
   "metadata": {},
   "outputs": [],
   "source": []
  },
  {
   "cell_type": "markdown",
   "metadata": {
    "id": "HGLmLBZVX29I"
   },
   "source": [
    "### Average of Guests Monthly\n",
    "Here we will analyze the average of guests each month by resort hotels and city hotels separately."
   ]
  },
  {
   "cell_type": "code",
   "execution_count": 440,
   "metadata": {
    "scrolled": false
   },
   "outputs": [],
   "source": [
    "#group 'hotel' by 'arrival_date_month'\n",
    "rh_monthly_guests = rh_df.groupby('arrival_date_month')['hotel'].count()\n",
    "ch_monthly_guests = ch_df.groupby('arrival_date_month')['hotel'].count()\n",
    "\n",
    "#create new dataframes for both type of hotel, and them concatenating them into a new one\n",
    "rh_guest_df = pd.DataFrame({\n",
    "    'month': list(rh_monthly_guests.index),\n",
    "    'hotel': 'Resort Hotel', \n",
    "    'guests': list(rh_monthly_guests.values)\n",
    "})\n",
    "\n",
    "ch_guest_df = pd.DataFrame({\n",
    "    'month': list(ch_monthly_guests.index),\n",
    "    'hotel': 'City Hotel', \n",
    "    'guests': list(ch_monthly_guests.values)\n",
    "})\n",
    "\n",
    "all_guest_data = pd.concat([rh_guest_df, ch_guest_df], ignore_index = True)"
   ]
  },
  {
   "cell_type": "markdown",
   "metadata": {},
   "source": [
    "Since the dataset has given three years of information for July and August, two and a little more for Septmeber, and two years for the rest, we need the normalize the data in order to correctly calculate the average of guests for each month. "
   ]
  },
  {
   "cell_type": "code",
   "execution_count": 441,
   "metadata": {},
   "outputs": [],
   "source": [
    "#calculate monthly average\n",
    "monthly_guest_data = all_guest_data.copy()\n",
    "\n",
    "monthly_guest_data.loc[(monthly_guest_data['month'] == 'July') | (monthly_guest_data['month'] == 'August'), 'guests'] /= 3\n",
    "monthly_guest_data.loc[(~(monthly_guest_data['month'] == 'July')) & (~(monthly_guest_data['month'] == 'August')) & (~(monthly_guest_data['month'] == 'September')), 'guests'] /= 2\n",
    "monthly_guest_data.loc[(monthly_guest_data['month'] == 'September'), 'guests'] /= 2.23\n",
    "\n",
    "monthly_guest_data['guests'] = np.round(monthly_guest_data['guests'], decimals = 0)\n",
    "\n",
    "ordered_months = [\"January\", \"February\", \"March\", \"April\", \"May\", \"June\", \"July\", \"August\", \"September\", \"October\", \"November\", \"December\"]\n",
    "monthly_guest_data['month'] = pd.Categorical(monthly_guest_data['month'], ordered_months)"
   ]
  },
  {
   "cell_type": "code",
   "execution_count": 442,
   "metadata": {},
   "outputs": [
    {
     "data": {
      "image/png": "[encoded data removed]",
      "text/plain": [
       "<Figure size 900x500 with 1 Axes>"
      ]
     },
     "metadata": {
      "needs_background": "light"
     },
     "output_type": "display_data"
    }
   ],
   "source": [
    "#visualize using line chart\n",
    "sns.lineplot(x = 'month', y = 'guests', data = monthly_guest_data, hue = 'hotel')\n",
    "\n",
    "plt.title('Average of Guests Monthly')\n",
    "plt.xlabel(\"Month\", fontsize = 16)\n",
    "plt.ylabel(\"Number of guests\", fontsize = 16)\n",
    "plt.xticks(rotation = 30)\n",
    "plt.show();"
   ]
  },
  {
   "cell_type": "markdown",
   "metadata": {},
   "source": [
    "- City hotels have higher number of guests overall than those of resort hotels for each month . \n",
    "- Resort hotel: Resort hotels expect the most guests in April. \n",
    "- City hotels: City hotels have the most average of guests in May. "
   ]
  },
  {
   "cell_type": "code",
   "execution_count": null,
   "metadata": {},
   "outputs": [],
   "source": []
  },
  {
   "cell_type": "markdown",
   "metadata": {
    "id": "PuENZ-HyX29I"
   },
   "source": [
    "### Nights of guests staying\n",
    "We will visualize the number of nights of staying and calculate the percentage of each duration."
   ]
  },
  {
   "cell_type": "code",
   "execution_count": 443,
   "metadata": {
    "id": "OLc0HoESX29I"
   },
   "outputs": [],
   "source": [
    "#combine'stays_in_weekend_nights' and 'stays_in_weekend_nights'\n",
    "stay_time = df.loc[:, ['hotel', 'stays_in_weekend_nights', 'stays_in_week_nights']]\n",
    "total_nights = stay_time.stays_in_weekend_nights + stay_time.stays_in_week_nights\n",
    "stay_time['total_nights'] = total_nights\n",
    "stay_time = stay_time.drop(['stays_in_weekend_nights', 'stays_in_week_nights'], axis = 1)\n",
    "\n",
    "rh_stay = stay_time[stay_time.hotel == 'Resort Hotel']\n",
    "ch_stay = stay_time[stay_time.hotel == 'City Hotel']"
   ]
  },
  {
   "cell_type": "code",
   "execution_count": 444,
   "metadata": {
    "scrolled": true
   },
   "outputs": [],
   "source": [
    "#create new dataframes for both type of hotel, and them concatenating them into a new one\n",
    "rh_stay_nights = list(rh_stay.total_nights.value_counts().index)\n",
    "rh_stay_bookings = list(rh_stay.total_nights.value_counts())\n",
    "rh_stay_percent = (rh_stay.total_nights.value_counts() / sum(rh_stay_bookings))*100\n",
    "\n",
    "rh_stay_df = pd.DataFrame({\n",
    "    'hotel': 'Resort Hotel',\n",
    "    'number_of_nights': rh_stay_nights,\n",
    "    'percent_of_bookings': rh_stay_percent\n",
    "})\n",
    "\n",
    "ch_stay_nights = list(ch_stay.total_nights.value_counts().index)\n",
    "ch_stay_bookings = list(ch_stay.total_nights.value_counts())\n",
    "ch_stay_percent = (ch_stay.total_nights.value_counts() / sum(ch_stay_bookings))*100\n",
    "ch_stay_df = pd.DataFrame({\n",
    "    'hotel': 'City Hotel',\n",
    "    'number_of_nights': ch_stay_nights,\n",
    "    'percent_of_bookings': ch_stay_percent\n",
    "})\n",
    "\n",
    "total_stay_df = pd.concat([rh_stay_df, ch_stay_df])"
   ]
  },
  {
   "cell_type": "code",
   "execution_count": 445,
   "metadata": {},
   "outputs": [
    {
     "data": {
      "image/png": "[encoded data removed]",
      "text/plain": [
       "<Figure size 900x500 with 1 Axes>"
      ]
     },
     "metadata": {
      "needs_background": "light"
     },
     "output_type": "display_data"
    }
   ],
   "source": [
    "#visualize using bar chart\n",
    "sns.barplot(x = 'number_of_nights', y = 'percent_of_bookings', hue = 'hotel', data = total_stay_df)\n",
    "\n",
    "plt.title(\"Length of Stays\", fontsize=16)\n",
    "plt.xlabel(\"Number of nights\", fontsize=16)\n",
    "plt.ylabel(\"Hotel bookings (%)\", fontsize=16)\n",
    "plt.legend(loc = \"upper right\")\n",
    "plt.xlim(0, 20)\n",
    "plt.show();"
   ]
  },
  {
   "cell_type": "markdown",
   "metadata": {},
   "source": [
    "- Resort hotels: The most popular staying duration for resort hotels are 1, 2 and 7 nights.\n",
    "- City hotels: The most popular staying length for city hotels are 2 and 3 nights."
   ]
  },
  {
   "cell_type": "code",
   "execution_count": null,
   "metadata": {},
   "outputs": [],
   "source": []
  },
  {
   "cell_type": "markdown",
   "metadata": {
    "id": "MFKWAJ03X29J"
   },
   "source": [
    "### Average cost of hotel per night\n",
    "Here we'll explore the average prices per night for resort/city hotels each month.\n"
   ]
  },
  {
   "cell_type": "code",
   "execution_count": 446,
   "metadata": {
    "id": "s2_ou0CTX29J",
    "scrolled": true
   },
   "outputs": [
    {
     "name": "stderr",
     "output_type": "stream",
     "text": [
      "/var/folders/mf/4s6x4zmd069fb360bc_z45fh0000gn/T/ipykernel_23789/2961671465.py:5: UserWarning:\n",
      "\n",
      "Boolean Series key will be reindexed to match DataFrame index.\n",
      "\n",
      "/var/folders/mf/4s6x4zmd069fb360bc_z45fh0000gn/T/ipykernel_23789/2961671465.py:6: UserWarning:\n",
      "\n",
      "Boolean Series key will be reindexed to match DataFrame index.\n",
      "\n"
     ]
    }
   ],
   "source": [
    "#define new dataframes\n",
    "adr_df = df.drop(df[df.adr == 0].index).loc[:, ['hotel', 'arrival_date_month', 'adr']]\n",
    "adr_df['arrival_date_month'] = pd.Categorical(adr_df['arrival_date_month'], ordered_months)\n",
    "\n",
    "rh_adr = adr_df[stay_time.hotel == 'Resort Hotel']\n",
    "ch_adr = adr_df[stay_time.hotel == 'City Hotel']"
   ]
  },
  {
   "cell_type": "code",
   "execution_count": 447,
   "metadata": {},
   "outputs": [],
   "source": [
    "#group 'adr' by 'arrival_date_month'\n",
    "rh_adr_monthly = rh_adr.groupby('arrival_date_month')['adr'].mean()\n",
    "ch_adr_monthly = ch_adr.groupby('arrival_date_month')['adr'].mean()\n",
    "\n",
    "rh_adr = pd.merge(rh_adr, rh_adr_monthly, on = 'arrival_date_month')\n",
    "ch_adr = pd.merge(ch_adr, ch_adr_monthly, on = 'arrival_date_month')\n",
    "rh_adr.rename(columns = {'adr_x': 'adr', 'adr_y': 'adr_monthly'}, inplace = True)\n",
    "ch_adr.rename(columns = {'adr_x': 'adr', 'adr_y': 'adr_monthly'}, inplace = True)\n",
    "\n",
    "adr_full_df = pd.concat([rh_adr, ch_adr])"
   ]
  },
  {
   "cell_type": "code",
   "execution_count": 448,
   "metadata": {
    "scrolled": true
   },
   "outputs": [
    {
     "data": {
      "image/png": "[encoded data removed]",
      "text/plain": [
       "<Figure size 900x500 with 1 Axes>"
      ]
     },
     "metadata": {
      "needs_background": "light"
     },
     "output_type": "display_data"
    }
   ],
   "source": [
    "#visualize using line chart\n",
    "sns.lineplot(x = 'arrival_date_month', y = 'adr_monthly', hue = 'hotel', data = adr_full_df)\n",
    "\n",
    "plt.title('Average hotel prices each month', fontsize=16)\n",
    "plt.xlabel('Month', fontsize=16)\n",
    "plt.ylabel('Price per night', fontsize=16)\n",
    "plt.xticks(rotation = 30)\n",
    "plt.show();"
   ]
  },
  {
   "cell_type": "markdown",
   "metadata": {},
   "source": [
    "- Resort hotels: July and August has a significant rise in price for resort hotels and exceeding that of city hotels from June to August.\n",
    "- City hotels: Guests will have to pay more in May and June for city hotels."
   ]
  },
  {
   "cell_type": "markdown",
   "metadata": {
    "id": "xn_eg5YSX29K"
   },
   "source": [
    "### Period of time between the booking date and the arriving date\n",
    "Visualizing the lead time (length of time between the booking date and the arriving date.)"
   ]
  },
  {
   "cell_type": "code",
   "execution_count": 449,
   "metadata": {},
   "outputs": [],
   "source": [
    "#convert days into months\n",
    "rh_month_num = [0, 0, 0, 0, 0, 0, 0]\n",
    "\n",
    "for day in rh_df.lead_time:\n",
    "    if day <= 30:\n",
    "        rh_month_num[0] += 1\n",
    "    elif day <= 60 & day > 30:\n",
    "        rh_month_num[1] += 1\n",
    "    elif day <= 90 & day > 60:\n",
    "        rh_month_num[2] += 1\n",
    "    elif day <= 120 & day> 90:\n",
    "        rh_month_num[3] += 1\n",
    "    elif day <= 150 & day > 120:\n",
    "        rh_month_num[4] += 1\n",
    "    elif day <= 180 & day > 150:\n",
    "        rh_month_num[5] += 1\n",
    "    elif day > 180:\n",
    "        rh_month_num[6] += 1\n",
    "        \n",
    "rh_month_num = [(i/sum(rh_month_num))*100 for i in rh_month_num]"
   ]
  },
  {
   "cell_type": "code",
   "execution_count": 450,
   "metadata": {},
   "outputs": [],
   "source": [
    "#convert days into months\n",
    "ch_month_num = [0, 0, 0, 0, 0, 0, 0]\n",
    "\n",
    "for day in ch_df.lead_time.items():\n",
    "    if day[1] <= 30:\n",
    "        ch_month_num[0] += 1\n",
    "    elif day[1] <= 60 & day[1] > 30:\n",
    "        ch_month_num[1] += 1\n",
    "    elif day[1] <= 90 & day[1] > 60:\n",
    "        ch_month_num[2] += 1\n",
    "    elif day[1] <= 120 & day[1] > 90:\n",
    "        ch_month_num[3] += 1\n",
    "    elif day[1] <= 150 & day[1] > 120:\n",
    "        ch_month_num[4] += 1\n",
    "    elif day[1] <= 180 & day[1] > 150:\n",
    "        ch_month_num[5] += 1\n",
    "    elif day[1] > 180:\n",
    "        ch_month_num[6] += 1\n",
    "        \n",
    "ch_month_num = [(j/sum(ch_month_num))*100 for j in ch_month_num]"
   ]
  },
  {
   "cell_type": "code",
   "execution_count": 451,
   "metadata": {},
   "outputs": [],
   "source": [
    "#create new dataframes for both type of hotel, and them concatenating them into a new one\n",
    "rh_leadtime_df = pd.DataFrame({\n",
    "    'hotel': 'Resort Hotel', \n",
    "    'months': ['One month', 'Two months', 'Three months', 'Four months', 'Five months', 'Six months', 'Over half a year'],\n",
    "    'lead_time_percentage': rh_month_num \n",
    "})\n",
    "\n",
    "ch_leadtime_df = pd.DataFrame({\n",
    "    'hotel': 'City Hotel', \n",
    "    'months': ['One month', 'Two months', 'Three months', 'Four months', 'Five months', 'Six months', 'Over half a year'],\n",
    "    'lead_time_percentage': ch_month_num \n",
    "})\n",
    "\n",
    "leadtime_full_df = pd.concat([rh_leadtime_df, ch_leadtime_df])"
   ]
  },
  {
   "cell_type": "code",
   "execution_count": 452,
   "metadata": {
    "scrolled": true
   },
   "outputs": [
    {
     "data": {
      "image/png": "[encoded data removed]",
      "text/plain": [
       "<Figure size 900x500 with 1 Axes>"
      ]
     },
     "metadata": {
      "needs_background": "light"
     },
     "output_type": "display_data"
    }
   ],
   "source": [
    "#visualize using line chart\n",
    "sns.lineplot(x = 'months', y = 'lead_time_percentage', hue = 'hotel', data = leadtime_full_df)\n",
    "\n",
    "plt.title('Lead Time')\n",
    "plt.xlabel('Months')\n",
    "plt.ylabel('Guests(%)')\n",
    "plt.xticks(rotation = 15)\n",
    "plt.show();"
   ]
  },
  {
   "cell_type": "markdown",
   "metadata": {},
   "source": [
    "- Resort hotels: Guests tend to book their hotels one month or over a half year in advance.\n",
    "- City hotels: People book their city hotels one month or over a half year earlier."
   ]
  },
  {
   "cell_type": "code",
   "execution_count": null,
   "metadata": {},
   "outputs": [],
   "source": []
  },
  {
   "cell_type": "markdown",
   "metadata": {},
   "source": [
    "### Cancelation rate\n",
    "We will analyze the calcelation rate for both types of hotel."
   ]
  },
  {
   "cell_type": "code",
   "execution_count": 453,
   "metadata": {},
   "outputs": [],
   "source": [
    "#create new dataframes for both type of hotel, and them concatenating them into a new one\n",
    "rh_cancel = rh_df[['hotel', 'is_canceled']]\n",
    "ch_cancel = ch_df[['hotel', 'is_canceled']]\n",
    "\n",
    "rh_cancel_rate = list(rh_cancel.is_canceled.value_counts() / rh_cancel.shape[0])\n",
    "ch_cancel_rate = list(ch_cancel.is_canceled.value_counts() / ch_cancel.shape[0])\n",
    "\n",
    "rh_cancel_df = pd.DataFrame({\n",
    "    'hotel': 'Resort Hotel',\n",
    "    'is_canceled': ['not canceled', 'canceled'],\n",
    "    'cancel_rate': rh_cancel_rate\n",
    "})\n",
    "\n",
    "ch_cancel_df = pd.DataFrame({\n",
    "    'hotel': 'City Hotel',\n",
    "    'is_canceled': ['not canceled', 'canceled'],\n",
    "    'cancel_rate': ch_cancel_rate\n",
    "})\n",
    "\n",
    "cancel_full_df = pd.concat([rh_cancel_df, ch_cancel_df])\n",
    "cancel_label = ['not canceled', 'canceled']"
   ]
  },
  {
   "cell_type": "code",
   "execution_count": 454,
   "metadata": {
    "scrolled": true
   },
   "outputs": [
    {
     "data": {
      "image/png": "[encoded data removed]",
      "text/plain": [
       "<Figure size 900x500 with 1 Axes>"
      ]
     },
     "metadata": {
      "needs_background": "light"
     },
     "output_type": "display_data"
    }
   ],
   "source": [
    "#visualize using bar chart\n",
    "sns.barplot(x = 'is_canceled', y = 'cancel_rate', hue = 'hotel', data = cancel_full_df)\n",
    "\n",
    "plt.title('Cancelation rates', fontsize = 16)\n",
    "plt.xlabel('')\n",
    "plt.ylabel('Percentage (%)', fontsize = 16)\n",
    "plt.show();"
   ]
  },
  {
   "cell_type": "markdown",
   "metadata": {},
   "source": [
    "- Guests tend to cancel on city hotels comparing to resort hotels.\n",
    "- Resort hotels: Around 28% of bookings were canceled.\n",
    "- City hotels: Approximately 32% of bookings were canceled, around 14% of chance higher than the cancelation of resort hotels ."
   ]
  },
  {
   "cell_type": "code",
   "execution_count": null,
   "metadata": {},
   "outputs": [],
   "source": []
  },
  {
   "cell_type": "markdown",
   "metadata": {
    "id": "lgsRKtd_X29L"
   },
   "source": [
    "## Asking and Answering Questions\n",
    "\n",
    "We will ask some questions and try to answer them by visualizing the results using Matplotlib/Seaborn or computing them with Pandas. Hopefully to come up with some interesting insights of this dataset.\n"
   ]
  },
  {
   "cell_type": "markdown",
   "metadata": {
    "id": "lmFlfX-oX29M"
   },
   "source": [
    "### Q1: What time of the year has the most number of differences between reserved and assigned room type? Is it related to the occupancy of accommadation?\n",
    "We want to know whether there is a relationship between the difference in reserved/assigned room type and the occupancy of accomadation. Since one might think the higher the occupancy is, the higher chance there is for hotels making adjustments on assigning room types.  "
   ]
  },
  {
   "cell_type": "code",
   "execution_count": 455,
   "metadata": {},
   "outputs": [],
   "source": [
    "#calculate monthly guests in percentage\n",
    "monthly_guests_df = df.arrival_date_month.value_counts()\n",
    "\n",
    "monthly_guests_df = monthly_guests_df.to_frame().reset_index()\n",
    "monthly_guests_df['index'] = pd.Categorical(monthly_guests_df['index'], ordered_months)\n",
    "monthly_guests_df = monthly_guests_df.sort_values('index')\n",
    "monthly_guests = list(monthly_guests_df.arrival_date_month)\n",
    "monthly_guests\n",
    "monthly_guests = [(i/sum(monthly_guests))*100 for i in monthly_guests]"
   ]
  },
  {
   "cell_type": "code",
   "execution_count": 456,
   "metadata": {
    "id": "P1Jdl_aTX29M"
   },
   "outputs": [],
   "source": [
    "room_df = df[['arrival_date_month', 'reserved_room_type', 'assigned_room_type']]\n",
    "\n",
    "room_diff_df = room_df[room_df.reserved_room_type != room_df.assigned_room_type]\n",
    "room_diff = room_diff_df.arrival_date_month.value_counts()"
   ]
  },
  {
   "cell_type": "code",
   "execution_count": 457,
   "metadata": {
    "scrolled": true
   },
   "outputs": [],
   "source": [
    "#calculate room differences in percentage\n",
    "room_diff = room_diff.to_frame().reset_index()\n",
    "room_diff['index'] = pd.Categorical(room_diff['index'], ordered_months)\n",
    "room_diff = room_diff.sort_values('index')\n",
    "\n",
    "room_diff = list(room_diff.arrival_date_month)\n",
    "room_diff = [(i/sum(room_diff))*100 for i in room_diff]"
   ]
  },
  {
   "cell_type": "code",
   "execution_count": 458,
   "metadata": {},
   "outputs": [
    {
     "data": {
      "image/png": "[encoded data removed]",
      "text/plain": [
       "<Figure size 900x500 with 1 Axes>"
      ]
     },
     "metadata": {
      "needs_background": "light"
     },
     "output_type": "display_data"
    }
   ],
   "source": [
    "#visualize using line chart\n",
    "sns.lineplot(x = ordered_months, y = monthly_guests, label = 'Accomadations')\n",
    "sns.lineplot(x = ordered_months, y = room_diff, label = 'Differences of room types')\n",
    "\n",
    "plt.title('Accomadations & Differences of room types')\n",
    "plt.xlabel('Month')\n",
    "plt.ylabel('Percentage(%)')\n",
    "plt.legend()\n",
    "plt.xticks(rotation = 30)\n",
    "plt.show();"
   ]
  },
  {
   "cell_type": "markdown",
   "metadata": {},
   "source": [
    "From the graph above, it is clear that in October, there is the highest chance of people getting different room types from what they reserved. However, the trend doesn't seem to be following any particular pattern, and not visually related to the accommadation occupancy."
   ]
  },
  {
   "cell_type": "code",
   "execution_count": null,
   "metadata": {},
   "outputs": [],
   "source": []
  },
  {
   "cell_type": "markdown",
   "metadata": {
    "id": "ZDN_OBx5X29M"
   },
   "source": [
    "### Q2: Are guests canceling bookings due to the difference in reserved and assigned room types?\n",
    "Since it is fair and reasonable for guests to cancel their bookings due to not getting the room types they wanted in the first place, let's analyze how many people have really done that."
   ]
  },
  {
   "cell_type": "code",
   "execution_count": 459,
   "metadata": {},
   "outputs": [
    {
     "data": {
      "image/png": "[encoded data removed]",
      "text/plain": [
       "<Figure size 1200x500 with 2 Axes>"
      ]
     },
     "metadata": {
      "needs_background": "light"
     },
     "output_type": "display_data"
    }
   ],
   "source": [
    "#visualize 'reserved_room_type' and 'assigned_room_type' cancelation using bar chart\n",
    "fig, axes = plt.subplots( nrows = 1, ncols = 2, figsize = (12,5))\n",
    "sns.countplot(x = 'reserved_room_type', hue = 'is_canceled', data = df, order = df['reserved_room_type'].value_counts(ascending = False).index, ax = axes[0])\n",
    "sns.countplot(x = 'assigned_room_type', hue = 'is_canceled', data = df, order = df['assigned_room_type'].value_counts(ascending = False).index, ax = axes[1])\n",
    "plt.show();"
   ]
  },
  {
   "cell_type": "markdown",
   "metadata": {},
   "source": [
    "From the figures above, we visualize the types of room for both reserved and assigned rooms. Room A is the most popular, but also with the highest rate of cancalation, while room L is the least favorable ones."
   ]
  },
  {
   "cell_type": "code",
   "execution_count": 460,
   "metadata": {},
   "outputs": [],
   "source": [
    "#add additional column 'wanted_unwanted_room' to df\n",
    "unwanted_room = np.where(df['reserved_room_type'] == df['assigned_room_type'], 'wanted', 'unwanted')\n",
    "df['wanted_unwanted_room'] = unwanted_room"
   ]
  },
  {
   "cell_type": "code",
   "execution_count": 461,
   "metadata": {},
   "outputs": [
    {
     "name": "stderr",
     "output_type": "stream",
     "text": [
      "/var/folders/mf/4s6x4zmd069fb360bc_z45fh0000gn/T/ipykernel_23789/2471822054.py:2: UserWarning:\n",
      "\n",
      "Boolean Series key will be reindexed to match DataFrame index.\n",
      "\n",
      "/var/folders/mf/4s6x4zmd069fb360bc_z45fh0000gn/T/ipykernel_23789/2471822054.py:3: UserWarning:\n",
      "\n",
      "Boolean Series key will be reindexed to match DataFrame index.\n",
      "\n"
     ]
    }
   ],
   "source": [
    "#calculate the percentage of cancelation of both wanted and unwanted rooms\n",
    "wanted_percent = df[df.wanted_unwanted_room == 'wanted'][df.is_canceled == 1]['wanted_unwanted_room'].count()*100 / df[df.wanted_unwanted_room == 'wanted']['wanted_unwanted_room'].count()\n",
    "unwanted_percent = df[df.wanted_unwanted_room == 'unwanted'][df.is_canceled == 1]['wanted_unwanted_room'].count()*100 / df[df.wanted_unwanted_room == 'unwanted']['wanted_unwanted_room'].count()"
   ]
  },
  {
   "cell_type": "code",
   "execution_count": 462,
   "metadata": {},
   "outputs": [
    {
     "name": "stdout",
     "output_type": "stream",
     "text": [
      "The cancelation rate of wanted room types is: 41.56%\n",
      "The cancelation rate of unwanted room types is: 5.42%\n"
     ]
    },
    {
     "data": {
      "image/png": "[encoded data removed]",
      "text/plain": [
       "<Figure size 900x500 with 1 Axes>"
      ]
     },
     "metadata": {
      "needs_background": "light"
     },
     "output_type": "display_data"
    }
   ],
   "source": [
    "print(f'The cancelation rate of wanted room types is: {round(wanted_percent, 2)}%')\n",
    "print(f'The cancelation rate of unwanted room types is: {round(unwanted_percent, 2)}%')\n",
    "\n",
    "#visualize using bar chart\n",
    "sns.countplot(x = 'wanted_unwanted_room', data = df, hue = 'is_canceled')\n",
    "plt.title(\"No. of guests who cancelled the booking on their room types\")\n",
    "plt.xlabel('Room type')\n",
    "plt.ylabel('Number of guests')\n",
    "plt.show();"
   ]
  },
  {
   "cell_type": "markdown",
   "metadata": {},
   "source": [
    "Well, the result is surprising and isn't what we expected to see. There is a significantly lower rate of cancelation in unwanted room types, while around 41.56% of guests cancel on wanted room types. "
   ]
  },
  {
   "cell_type": "code",
   "execution_count": null,
   "metadata": {},
   "outputs": [],
   "source": []
  },
  {
   "cell_type": "markdown",
   "metadata": {
    "id": "07IgXpWYX29N"
   },
   "source": [
    "### Q3: Do guests tend to bring children/babies to hotels in summer?\n",
    "Summer breaks are usually the time for families to go on trips, so we want to know whether more guests bring their kids along to stay in hotels during these time of the year.\n"
   ]
  },
  {
   "cell_type": "code",
   "execution_count": 463,
   "metadata": {},
   "outputs": [],
   "source": [
    "#add new column 'total_child'\n",
    "df['total_child'] = df.children + df.babies\n",
    "rh_df = df[df.hotel == 'Resort Hotel']\n",
    "ch_df = df[df.hotel == 'City Hotel']"
   ]
  },
  {
   "cell_type": "code",
   "execution_count": 464,
   "metadata": {},
   "outputs": [
    {
     "name": "stderr",
     "output_type": "stream",
     "text": [
      "/var/folders/mf/4s6x4zmd069fb360bc_z45fh0000gn/T/ipykernel_23789/1531541807.py:2: SettingWithCopyWarning:\n",
      "\n",
      "\n",
      "A value is trying to be set on a copy of a slice from a DataFrame.\n",
      "Try using .loc[row_indexer,col_indexer] = value instead\n",
      "\n",
      "See the caveats in the documentation: https://pandas.pydata.org/pandas-docs/stable/user_guide/indexing.html#returning-a-view-versus-a-copy\n",
      "\n",
      "/var/folders/mf/4s6x4zmd069fb360bc_z45fh0000gn/T/ipykernel_23789/1531541807.py:3: SettingWithCopyWarning:\n",
      "\n",
      "\n",
      "A value is trying to be set on a copy of a slice from a DataFrame.\n",
      "Try using .loc[row_indexer,col_indexer] = value instead\n",
      "\n",
      "See the caveats in the documentation: https://pandas.pydata.org/pandas-docs/stable/user_guide/indexing.html#returning-a-view-versus-a-copy\n",
      "\n"
     ]
    }
   ],
   "source": [
    "#sort df by ordered_months\n",
    "rh_df['arrival_date_month'] = pd.Categorical(rh_df['arrival_date_month'], ordered_months)\n",
    "ch_df['arrival_date_month'] = pd.Categorical(ch_df['arrival_date_month'], ordered_months)"
   ]
  },
  {
   "cell_type": "code",
   "execution_count": 465,
   "metadata": {},
   "outputs": [],
   "source": [
    "#calculate the percentage of guests with children\n",
    "rh_with_child_df = rh_df[rh_df.total_child != 0]\n",
    "ch_with_child_df = ch_df[ch_df.total_child != 0]\n",
    "\n",
    "rh_with_child_list = list(rh_with_child_df.groupby('arrival_date_month')['total_child'].count())\n",
    "ch_with_child_list = list(ch_with_child_df.groupby('arrival_date_month')['total_child'].count())\n",
    "\n",
    "rh_with_child = [(i/j)*100 for i, j in zip(rh_with_child_list , rh_total_child)]\n",
    "ch_with_child = [(i/j)*100 for i, j in zip(ch_with_child_list , ch_total_child)]"
   ]
  },
  {
   "cell_type": "code",
   "execution_count": 466,
   "metadata": {},
   "outputs": [
    {
     "data": {
      "image/png": "[encoded data removed]",
      "text/plain": [
       "<Figure size 900x500 with 1 Axes>"
      ]
     },
     "metadata": {
      "needs_background": "light"
     },
     "output_type": "display_data"
    }
   ],
   "source": [
    "#visualize using bar chart\n",
    "plt.bar(ordered_months, rh_with_child, color = 'turquoise')\n",
    "plt.bar(ordered_months, ch_with_child, bottom = rh_with_child, color = 'salmon')\n",
    "\n",
    "plt.title('Guests With Kids')\n",
    "plt.xlabel('Month')\n",
    "plt.ylabel('Percentage(%)')\n",
    "plt.legend(['Resort Hotel', 'City Hotel'])\n",
    "plt.xticks(rotation = 30)\n",
    "plt.show();"
   ]
  },
  {
   "cell_type": "markdown",
   "metadata": {},
   "source": [
    "From the graph above, July and August are the two months which the most guests bring their childern/babies along. It is reasonable since these are the months of summer vacation, and most of the guests are from the northen hemisphere. Hence, hotels can expect more guests with children during summer break."
   ]
  },
  {
   "cell_type": "code",
   "execution_count": null,
   "metadata": {},
   "outputs": [],
   "source": []
  },
  {
   "cell_type": "markdown",
   "metadata": {
    "id": "LjLtxQguX29O"
   },
   "source": [
    "### Q4: Is there a relationship between cancelation rate and popular dates of accomadation?\n",
    "While it is an intuitive view that the more bookings hotels get, the more likey will guests cancel on the them. Hence, we want to verify if this is true or not."
   ]
  },
  {
   "cell_type": "code",
   "execution_count": 467,
   "metadata": {},
   "outputs": [
    {
     "data": {
      "text/plain": [
       "0    74872\n",
       "1    44115\n",
       "Name: is_canceled, dtype: int64"
      ]
     },
     "execution_count": 467,
     "metadata": {},
     "output_type": "execute_result"
    }
   ],
   "source": [
    "cancel_df = df[['is_canceled', 'arrival_date_month']]\n",
    "cancel_df.is_canceled.value_counts()"
   ]
  },
  {
   "cell_type": "code",
   "execution_count": 468,
   "metadata": {},
   "outputs": [
    {
     "name": "stderr",
     "output_type": "stream",
     "text": [
      "/var/folders/mf/4s6x4zmd069fb360bc_z45fh0000gn/T/ipykernel_23789/2047514876.py:2: SettingWithCopyWarning:\n",
      "\n",
      "\n",
      "A value is trying to be set on a copy of a slice from a DataFrame.\n",
      "Try using .loc[row_indexer,col_indexer] = value instead\n",
      "\n",
      "See the caveats in the documentation: https://pandas.pydata.org/pandas-docs/stable/user_guide/indexing.html#returning-a-view-versus-a-copy\n",
      "\n"
     ]
    }
   ],
   "source": [
    "#sort and calculate percentage of cancelations\n",
    "cancel_df['arrival_date_month'] = pd.Categorical(cancel_df['arrival_date_month'], ordered_months)\n",
    "\n",
    "canceled_df = cancel_df[cancel_df.is_canceled != 0]\n",
    "canceled = list(canceled_df.groupby('arrival_date_month')['is_canceled'].count())\n",
    "canceled = [(i/sum(canceled))*100 for i in canceled]"
   ]
  },
  {
   "cell_type": "code",
   "execution_count": 469,
   "metadata": {},
   "outputs": [
    {
     "data": {
      "image/png": "[encoded data removed]",
      "text/plain": [
       "<Figure size 900x500 with 1 Axes>"
      ]
     },
     "metadata": {
      "needs_background": "light"
     },
     "output_type": "display_data"
    }
   ],
   "source": [
    "#visualizing using line chart\n",
    "sns.lineplot(x = ordered_months, y = monthly_guests, label = 'Accomadtions')\n",
    "sns.lineplot(x = ordered_months, y = canceled, label = 'Cancelations')\n",
    "plt.title('Accomadtions & Cancelations')\n",
    "plt.xlabel('Month')\n",
    "plt.ylabel('Percentage(%)')\n",
    "plt.legend(loc = 'upper right')\n",
    "plt.xticks(rotation = 30)\n",
    "plt.show();"
   ]
  },
  {
   "cell_type": "markdown",
   "metadata": {},
   "source": [
    "The figure above shows that the trend of cancelation follows that of accomadation, which means the more booking during a period of time, the more cancelation we will expect. Thus, a positive correlation exists between the two variables."
   ]
  },
  {
   "cell_type": "code",
   "execution_count": null,
   "metadata": {},
   "outputs": [],
   "source": []
  },
  {
   "cell_type": "markdown",
   "metadata": {},
   "source": [
    "### Q5:  What are the most correlated features of cancelation?\n",
    "This dataset can be used to train a model to predict whether there will be a cancelation or not, finding the correlated factor of cancelation can be helpful in training the model, so here we are going to explore the correlations with cancelation."
   ]
  },
  {
   "cell_type": "markdown",
   "metadata": {},
   "source": [
    "While only numerical variables can be calculated for correlated factors, we will use the **LabelEncoder** function from scikit-learn to transform object-type variables into numerics."
   ]
  },
  {
   "cell_type": "code",
   "execution_count": 470,
   "metadata": {},
   "outputs": [
    {
     "data": {
      "text/html": [
       "<div>\n",
       "<style scoped>\n",
       "    .dataframe tbody tr th:only-of-type {\n",
       "        vertical-align: middle;\n",
       "    }\n",
       "\n",
       "    .dataframe tbody tr th {\n",
       "        vertical-align: top;\n",
       "    }\n",
       "\n",
       "    .dataframe thead th {\n",
       "        text-align: right;\n",
       "    }\n",
       "</style>\n",
       "<table border=\"1\" class=\"dataframe\">\n",
       "  <thead>\n",
       "    <tr style=\"text-align: right;\">\n",
       "      <th></th>\n",
       "      <th>hotel</th>\n",
       "      <th>is_canceled</th>\n",
       "      <th>lead_time</th>\n",
       "      <th>arrival_date_year</th>\n",
       "      <th>arrival_date_month</th>\n",
       "      <th>arrival_date_week_number</th>\n",
       "      <th>arrival_date_day_of_month</th>\n",
       "      <th>arrival_date</th>\n",
       "      <th>stays_in_weekend_nights</th>\n",
       "      <th>stays_in_week_nights</th>\n",
       "      <th>adults</th>\n",
       "      <th>children</th>\n",
       "      <th>babies</th>\n",
       "      <th>meal</th>\n",
       "      <th>country</th>\n",
       "      <th>market_segment</th>\n",
       "      <th>distribution_channel</th>\n",
       "      <th>is_repeated_guest</th>\n",
       "      <th>previous_cancellations</th>\n",
       "      <th>previous_bookings_not_canceled</th>\n",
       "      <th>reserved_room_type</th>\n",
       "      <th>assigned_room_type</th>\n",
       "      <th>booking_changes</th>\n",
       "      <th>deposit_type</th>\n",
       "      <th>agent</th>\n",
       "      <th>company</th>\n",
       "      <th>days_in_waiting_list</th>\n",
       "      <th>customer_type</th>\n",
       "      <th>adr</th>\n",
       "      <th>required_car_parking_spaces</th>\n",
       "      <th>total_of_special_requests</th>\n",
       "      <th>reservation_status</th>\n",
       "      <th>reservation_status_date</th>\n",
       "      <th>reservation_date_year</th>\n",
       "      <th>reservation_date_month</th>\n",
       "      <th>reservation_date_day</th>\n",
       "      <th>wanted_unwanted_room</th>\n",
       "      <th>total_child</th>\n",
       "    </tr>\n",
       "  </thead>\n",
       "  <tbody>\n",
       "    <tr>\n",
       "      <th>0</th>\n",
       "      <td>Resort Hotel</td>\n",
       "      <td>0</td>\n",
       "      <td>342</td>\n",
       "      <td>2015</td>\n",
       "      <td>5</td>\n",
       "      <td>27</td>\n",
       "      <td>1</td>\n",
       "      <td>2015-07-01</td>\n",
       "      <td>0</td>\n",
       "      <td>0</td>\n",
       "      <td>2</td>\n",
       "      <td>0.0</td>\n",
       "      <td>0</td>\n",
       "      <td>0</td>\n",
       "      <td>135</td>\n",
       "      <td>3</td>\n",
       "      <td>1</td>\n",
       "      <td>0</td>\n",
       "      <td>0</td>\n",
       "      <td>0</td>\n",
       "      <td>2</td>\n",
       "      <td>2</td>\n",
       "      <td>3</td>\n",
       "      <td>0</td>\n",
       "      <td>NaN</td>\n",
       "      <td>NaN</td>\n",
       "      <td>0</td>\n",
       "      <td>2</td>\n",
       "      <td>0.0</td>\n",
       "      <td>0</td>\n",
       "      <td>0</td>\n",
       "      <td>1</td>\n",
       "      <td>2015-07-01</td>\n",
       "      <td>2015</td>\n",
       "      <td>7</td>\n",
       "      <td>1</td>\n",
       "      <td>wanted</td>\n",
       "      <td>0.0</td>\n",
       "    </tr>\n",
       "    <tr>\n",
       "      <th>1</th>\n",
       "      <td>Resort Hotel</td>\n",
       "      <td>0</td>\n",
       "      <td>737</td>\n",
       "      <td>2015</td>\n",
       "      <td>5</td>\n",
       "      <td>27</td>\n",
       "      <td>1</td>\n",
       "      <td>2015-07-01</td>\n",
       "      <td>0</td>\n",
       "      <td>0</td>\n",
       "      <td>2</td>\n",
       "      <td>0.0</td>\n",
       "      <td>0</td>\n",
       "      <td>0</td>\n",
       "      <td>135</td>\n",
       "      <td>3</td>\n",
       "      <td>1</td>\n",
       "      <td>0</td>\n",
       "      <td>0</td>\n",
       "      <td>0</td>\n",
       "      <td>2</td>\n",
       "      <td>2</td>\n",
       "      <td>4</td>\n",
       "      <td>0</td>\n",
       "      <td>NaN</td>\n",
       "      <td>NaN</td>\n",
       "      <td>0</td>\n",
       "      <td>2</td>\n",
       "      <td>0.0</td>\n",
       "      <td>0</td>\n",
       "      <td>0</td>\n",
       "      <td>1</td>\n",
       "      <td>2015-07-01</td>\n",
       "      <td>2015</td>\n",
       "      <td>7</td>\n",
       "      <td>1</td>\n",
       "      <td>wanted</td>\n",
       "      <td>0.0</td>\n",
       "    </tr>\n",
       "    <tr>\n",
       "      <th>2</th>\n",
       "      <td>Resort Hotel</td>\n",
       "      <td>0</td>\n",
       "      <td>7</td>\n",
       "      <td>2015</td>\n",
       "      <td>5</td>\n",
       "      <td>27</td>\n",
       "      <td>1</td>\n",
       "      <td>2015-07-01</td>\n",
       "      <td>0</td>\n",
       "      <td>1</td>\n",
       "      <td>1</td>\n",
       "      <td>0.0</td>\n",
       "      <td>0</td>\n",
       "      <td>0</td>\n",
       "      <td>59</td>\n",
       "      <td>3</td>\n",
       "      <td>1</td>\n",
       "      <td>0</td>\n",
       "      <td>0</td>\n",
       "      <td>0</td>\n",
       "      <td>0</td>\n",
       "      <td>2</td>\n",
       "      <td>0</td>\n",
       "      <td>0</td>\n",
       "      <td>NaN</td>\n",
       "      <td>NaN</td>\n",
       "      <td>0</td>\n",
       "      <td>2</td>\n",
       "      <td>75.0</td>\n",
       "      <td>0</td>\n",
       "      <td>0</td>\n",
       "      <td>1</td>\n",
       "      <td>2015-07-02</td>\n",
       "      <td>2015</td>\n",
       "      <td>7</td>\n",
       "      <td>2</td>\n",
       "      <td>unwanted</td>\n",
       "      <td>0.0</td>\n",
       "    </tr>\n",
       "    <tr>\n",
       "      <th>3</th>\n",
       "      <td>Resort Hotel</td>\n",
       "      <td>0</td>\n",
       "      <td>13</td>\n",
       "      <td>2015</td>\n",
       "      <td>5</td>\n",
       "      <td>27</td>\n",
       "      <td>1</td>\n",
       "      <td>2015-07-01</td>\n",
       "      <td>0</td>\n",
       "      <td>1</td>\n",
       "      <td>1</td>\n",
       "      <td>0.0</td>\n",
       "      <td>0</td>\n",
       "      <td>0</td>\n",
       "      <td>59</td>\n",
       "      <td>2</td>\n",
       "      <td>0</td>\n",
       "      <td>0</td>\n",
       "      <td>0</td>\n",
       "      <td>0</td>\n",
       "      <td>0</td>\n",
       "      <td>0</td>\n",
       "      <td>0</td>\n",
       "      <td>0</td>\n",
       "      <td>304.0</td>\n",
       "      <td>NaN</td>\n",
       "      <td>0</td>\n",
       "      <td>2</td>\n",
       "      <td>75.0</td>\n",
       "      <td>0</td>\n",
       "      <td>0</td>\n",
       "      <td>1</td>\n",
       "      <td>2015-07-02</td>\n",
       "      <td>2015</td>\n",
       "      <td>7</td>\n",
       "      <td>2</td>\n",
       "      <td>wanted</td>\n",
       "      <td>0.0</td>\n",
       "    </tr>\n",
       "    <tr>\n",
       "      <th>4</th>\n",
       "      <td>Resort Hotel</td>\n",
       "      <td>0</td>\n",
       "      <td>14</td>\n",
       "      <td>2015</td>\n",
       "      <td>5</td>\n",
       "      <td>27</td>\n",
       "      <td>1</td>\n",
       "      <td>2015-07-01</td>\n",
       "      <td>0</td>\n",
       "      <td>2</td>\n",
       "      <td>2</td>\n",
       "      <td>0.0</td>\n",
       "      <td>0</td>\n",
       "      <td>0</td>\n",
       "      <td>59</td>\n",
       "      <td>6</td>\n",
       "      <td>3</td>\n",
       "      <td>0</td>\n",
       "      <td>0</td>\n",
       "      <td>0</td>\n",
       "      <td>0</td>\n",
       "      <td>0</td>\n",
       "      <td>0</td>\n",
       "      <td>0</td>\n",
       "      <td>240.0</td>\n",
       "      <td>NaN</td>\n",
       "      <td>0</td>\n",
       "      <td>2</td>\n",
       "      <td>98.0</td>\n",
       "      <td>0</td>\n",
       "      <td>1</td>\n",
       "      <td>1</td>\n",
       "      <td>2015-07-03</td>\n",
       "      <td>2015</td>\n",
       "      <td>7</td>\n",
       "      <td>3</td>\n",
       "      <td>wanted</td>\n",
       "      <td>0.0</td>\n",
       "    </tr>\n",
       "  </tbody>\n",
       "</table>\n",
       "</div>"
      ],
      "text/plain": [
       "          hotel  is_canceled  lead_time  arrival_date_year  \\\n",
       "0  Resort Hotel            0        342               2015   \n",
       "1  Resort Hotel            0        737               2015   \n",
       "2  Resort Hotel            0          7               2015   \n",
       "3  Resort Hotel            0         13               2015   \n",
       "4  Resort Hotel            0         14               2015   \n",
       "\n",
       "   arrival_date_month  arrival_date_week_number  arrival_date_day_of_month  \\\n",
       "0                   5                        27                          1   \n",
       "1                   5                        27                          1   \n",
       "2                   5                        27                          1   \n",
       "3                   5                        27                          1   \n",
       "4                   5                        27                          1   \n",
       "\n",
       "  arrival_date  stays_in_weekend_nights  stays_in_week_nights  adults  \\\n",
       "0   2015-07-01                        0                     0       2   \n",
       "1   2015-07-01                        0                     0       2   \n",
       "2   2015-07-01                        0                     1       1   \n",
       "3   2015-07-01                        0                     1       1   \n",
       "4   2015-07-01                        0                     2       2   \n",
       "\n",
       "   children  babies  meal  country  market_segment  distribution_channel  \\\n",
       "0       0.0       0     0      135               3                     1   \n",
       "1       0.0       0     0      135               3                     1   \n",
       "2       0.0       0     0       59               3                     1   \n",
       "3       0.0       0     0       59               2                     0   \n",
       "4       0.0       0     0       59               6                     3   \n",
       "\n",
       "   is_repeated_guest  previous_cancellations  previous_bookings_not_canceled  \\\n",
       "0                  0                       0                               0   \n",
       "1                  0                       0                               0   \n",
       "2                  0                       0                               0   \n",
       "3                  0                       0                               0   \n",
       "4                  0                       0                               0   \n",
       "\n",
       "   reserved_room_type  assigned_room_type  booking_changes  deposit_type  \\\n",
       "0                   2                   2                3             0   \n",
       "1                   2                   2                4             0   \n",
       "2                   0                   2                0             0   \n",
       "3                   0                   0                0             0   \n",
       "4                   0                   0                0             0   \n",
       "\n",
       "   agent  company  days_in_waiting_list  customer_type   adr  \\\n",
       "0    NaN      NaN                     0              2   0.0   \n",
       "1    NaN      NaN                     0              2   0.0   \n",
       "2    NaN      NaN                     0              2  75.0   \n",
       "3  304.0      NaN                     0              2  75.0   \n",
       "4  240.0      NaN                     0              2  98.0   \n",
       "\n",
       "   required_car_parking_spaces  total_of_special_requests  reservation_status  \\\n",
       "0                            0                          0                   1   \n",
       "1                            0                          0                   1   \n",
       "2                            0                          0                   1   \n",
       "3                            0                          0                   1   \n",
       "4                            0                          1                   1   \n",
       "\n",
       "  reservation_status_date  reservation_date_year  reservation_date_month  \\\n",
       "0              2015-07-01                   2015                       7   \n",
       "1              2015-07-01                   2015                       7   \n",
       "2              2015-07-02                   2015                       7   \n",
       "3              2015-07-02                   2015                       7   \n",
       "4              2015-07-03                   2015                       7   \n",
       "\n",
       "   reservation_date_day wanted_unwanted_room  total_child  \n",
       "0                     1               wanted          0.0  \n",
       "1                     1               wanted          0.0  \n",
       "2                     2             unwanted          0.0  \n",
       "3                     2               wanted          0.0  \n",
       "4                     3               wanted          0.0  "
      ]
     },
     "execution_count": 470,
     "metadata": {},
     "output_type": "execute_result"
    }
   ],
   "source": [
    "#transform non-numeric to numeric variables\n",
    "labelencoder = LabelEncoder()\n",
    "\n",
    "for col in df[['arrival_date_month', 'meal', 'country','market_segment','distribution_channel', 'reserved_room_type', 'assigned_room_type', 'deposit_type', 'customer_type', 'reservation_status']]:\n",
    "    df[col] = labelencoder.fit_transform(df[col])\n",
    "\n",
    "df.head(5)"
   ]
  },
  {
   "cell_type": "code",
   "execution_count": 471,
   "metadata": {},
   "outputs": [],
   "source": [
    "#define features\n",
    "mat = ['is_canceled',\n",
    "       'lead_time',\n",
    "       'stays_in_weekend_nights',\n",
    "       'stays_in_week_nights',\n",
    "       'adults',\n",
    "       'children',\n",
    "       'babies',\n",
    "       'meal',\n",
    "       'country',\n",
    "       'market_segment',\n",
    "       'distribution_channel',\n",
    "       'is_repeated_guest',\n",
    "       'previous_cancellations',\n",
    "       'previous_bookings_not_canceled',\n",
    "       'reserved_room_type',\n",
    "       'assigned_room_type',\n",
    "       'deposit_type',\n",
    "       'booking_changes',\n",
    "       'days_in_waiting_list',\n",
    "       'adr',\n",
    "       'required_car_parking_spaces',\n",
    "       'total_of_special_requests']"
   ]
  },
  {
   "cell_type": "code",
   "execution_count": 472,
   "metadata": {},
   "outputs": [
    {
     "data": {
      "image/png": "[encoded data removed]",
      "text/plain": [
       "<Figure size 800x600 with 2 Axes>"
      ]
     },
     "metadata": {
      "needs_background": "light"
     },
     "output_type": "display_data"
    }
   ],
   "source": [
    "#plot the correlation map\n",
    "plt.figure(figsize = (8, 6))\n",
    "corr_mat = df[mat].corr()\n",
    "sns.heatmap(corr_mat);"
   ]
  },
  {
   "cell_type": "code",
   "execution_count": 473,
   "metadata": {},
   "outputs": [
    {
     "data": {
      "text/plain": [
       "deposit_type                      0.469187\n",
       "lead_time                         0.292983\n",
       "country                           0.265026\n",
       "distribution_channel              0.167791\n",
       "previous_cancellations            0.110222\n",
       "market_segment                    0.059326\n",
       "adults                            0.058891\n",
       "days_in_waiting_list              0.054357\n",
       "adr                               0.046460\n",
       "stays_in_week_nights              0.025348\n",
       "arrival_date_year                 0.016450\n",
       "arrival_date_week_number          0.008323\n",
       "children                          0.004849\n",
       "stays_in_weekend_nights          -0.001388\n",
       "arrival_date_month               -0.001407\n",
       "total_child                      -0.003183\n",
       "arrival_date_day_of_month        -0.005878\n",
       "meal                             -0.017134\n",
       "company                          -0.023174\n",
       "babies                           -0.032620\n",
       "reservation_date_day             -0.033856\n",
       "previous_bookings_not_canceled   -0.057413\n",
       "reserved_room_type               -0.062293\n",
       "customer_type                    -0.068166\n",
       "reservation_date_month           -0.068670\n",
       "agent                            -0.083512\n",
       "is_repeated_guest                -0.083797\n",
       "reservation_date_year            -0.117145\n",
       "booking_changes                  -0.144863\n",
       "assigned_room_type               -0.176147\n",
       "required_car_parking_spaces      -0.195863\n",
       "total_of_special_requests        -0.235262\n",
       "Name: is_canceled, dtype: float64"
      ]
     },
     "execution_count": 473,
     "metadata": {},
     "output_type": "execute_result"
    }
   ],
   "source": [
    "#list the correlated features with respect to 'is_canceled'\n",
    "cancel_correlation = df.drop('reservation_status', axis = 1).corr(numeric_only = True)['is_canceled']\n",
    "cancel_correlation.sort_values(ascending = False)[1:]"
   ]
  },
  {
   "cell_type": "markdown",
   "metadata": {},
   "source": [
    "- It seems that 'deposit_type' is most positive correlated variable of cancelation, since the deposit type such as no deposit or no refund can greatly affect people's flexability on their schedule.\n",
    "- Lead time is one of the top impact factors of cancelation as well, and probably also because of its relation with the flexability of guests' schedules.\n",
    "- It looks like 'total_of_special_requests' is the most negative correlated variable, because the more requests a guest make, the more they want to spend a good time and be more committed to the hotel.\n",
    "- While the dates of arrival can barely provide us with information of their connection with cancelation."
   ]
  },
  {
   "cell_type": "code",
   "execution_count": 474,
   "metadata": {},
   "outputs": [],
   "source": [
    "import jovian"
   ]
  },
  {
   "cell_type": "code",
   "execution_count": 480,
   "metadata": {},
   "outputs": [
    {
     "data": {
      "application/javascript": [
       "window.require && require([\"base/js/namespace\"],function(Jupyter){Jupyter.notebook.save_checkpoint()})"
      ],
      "text/plain": [
       "<IPython.core.display.Javascript object>"
      ]
     },
     "metadata": {},
     "output_type": "display_data"
    },
    {
     "name": "stdout",
     "output_type": "stream",
     "text": [
      "[jovian] Updating notebook \"sashalai007/zerotopandas-course-project\" on https://jovian.com/\u001b[0m\n",
      "[jovian] Committed successfully! https://jovian.com/sashalai007/zerotopandas-course-project\u001b[0m\n"
     ]
    },
    {
     "data": {
      "text/plain": [
       "'https://jovian.com/sashalai007/zerotopandas-course-project'"
      ]
     },
     "execution_count": 480,
     "metadata": {},
     "output_type": "execute_result"
    }
   ],
   "source": [
    "jovian.commit()"
   ]
  },
  {
   "cell_type": "markdown",
   "metadata": {
    "id": "_wEoGzhUX29R"
   },
   "source": [
    "## Inferences and Conclusion\n",
    "\n",
    "I hope this analysis and exploration can be helpful to anyone interested, especially hotel owners, to understand more about trends that guests follow, and what to expect in certain time of a year.\n",
    "\n",
    "The followings are some of the inferences drawn from the analysis, and conclusions we have made by answering various questions:\n",
    "\n",
    "\n",
    "1. Portugal is the country where the most guests are from.\n",
    "2. Guests usually stay for 1, 2 or 7 nights in resort hotels, while those in city hotels tend to stay 2 or 3 nights.\n",
    "3. Resort hotels are the most expensive in August, while May is most pricey for city hotels.\n",
    "4. For both types of hotels, people either make reservations within a month or more than half a year beforehand.\n",
    "5. Guests tend to cancel on city hotels than on resort hotels.\n",
    "6. It seems like the number of guests getting different room types is not affected by the occupancy of accomadation.\n",
    "7. It is sursprising to see that there is a significantly lower rate of cancelation in unwanted room types, which means guests don't really cancel on hotels due to not being assigned to the types of room they originally required.\n",
    "8. It is true that guests are more likely to bring their kids along in July and August, since these are the months of summer vacation.\n",
    "9. It obvious that the more bookings a hotel gets, the more cancelations they will expect.\n",
    "10. Among the information given, 'deposit_type' is the most positive correlated feature, while 'total_of_special_requests' is the most negative correlated variable with cancelation."
   ]
  },
  {
   "cell_type": "markdown",
   "metadata": {
    "id": "nAreltiEX29R"
   },
   "source": [
    "## References and Future Work\n",
    "\n",
    "What I hope to do is to build a machine learning model for prediction of cancelations on hotels with this dataset in the near future, since it provides us with tons of information I found useful during analyzing and exploring this dataset. \n",
    "\n",
    "The following are some of the resources that are helpful for completing this work and gave me different insights and views for EDA.\n",
    "- Seaborn: https://seaborn.pydata.org/\n",
    "- Matplotlib: https://matplotlib.org/\n",
    "- Kaggle notebook: https://www.kaggle.com/code/marcuswingen/eda-of-bookings-and-ml-to-predict-cancelations/comments\n",
    "- Kaggle notebook: https://www.kaggle.com/code/visheshsoni23/hotel-booking-cancellation/notebook\n"
   ]
  },
  {
   "cell_type": "code",
   "execution_count": 476,
   "metadata": {
    "id": "ol3J1W89X29S"
   },
   "outputs": [],
   "source": [
    "import jovian"
   ]
  },
  {
   "cell_type": "code",
   "execution_count": 478,
   "metadata": {
    "id": "mMmmg8bCX29S",
    "outputId": "7e5aee51-1d96-4c2d-fd7c-c329932ed076",
    "scrolled": true
   },
   "outputs": [
    {
     "data": {
      "application/javascript": [
       "window.require && require([\"base/js/namespace\"],function(Jupyter){Jupyter.notebook.save_checkpoint()})"
      ],
      "text/plain": [
       "<IPython.core.display.Javascript object>"
      ]
     },
     "metadata": {},
     "output_type": "display_data"
    },
    {
     "name": "stdout",
     "output_type": "stream",
     "text": [
      "[jovian] Updating notebook \"sashalai007/zerotopandas-course-project\" on https://jovian.com/\u001b[0m\n",
      "[jovian] Committed successfully! https://jovian.com/sashalai007/zerotopandas-course-project\u001b[0m\n"
     ]
    },
    {
     "data": {
      "text/plain": [
       "'https://jovian.com/sashalai007/zerotopandas-course-project'"
      ]
     },
     "execution_count": 478,
     "metadata": {},
     "output_type": "execute_result"
    }
   ],
   "source": [
    "jovian.commit()"
   ]
  },
  {
   "cell_type": "code",
   "execution_count": null,
   "metadata": {
    "id": "8EmbNAchX29T"
   },
   "outputs": [],
   "source": []
  }
 ],
 "metadata": {
  "colab": {
   "provenance": []
  },
  "kernelspec": {
   "display_name": "Python 3 (ipykernel)",
   "language": "python",
   "name": "python3"
  },
  "language_info": {
   "codemirror_mode": {
    "name": "ipython",
    "version": 3
   },
   "file_extension": ".py",
   "mimetype": "text/x-python",
   "name": "python",
   "nbconvert_exporter": "python",
   "pygments_lexer": "ipython3",
   "version": "3.8.16"
  }
 },
 "nbformat": 4,
 "nbformat_minor": 1
}
